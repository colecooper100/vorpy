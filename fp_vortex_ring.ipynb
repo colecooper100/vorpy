{
 "cells": [
  {
   "cell_type": "code",
   "execution_count": 1,
   "metadata": {},
   "outputs": [],
   "source": [
    "import os  # for saving files\n",
    "import numpy as np\n",
    "from matplotlib import pyplot as plt\n",
    "from juliacall import Main as jl\n",
    "# from muvi import geometry as geo\n"
   ]
  },
  {
   "cell_type": "code",
   "execution_count": 2,
   "metadata": {},
   "outputs": [
    {
     "ename": "NameError",
     "evalue": "name 'os' is not defined",
     "output_type": "error",
     "traceback": [
      "\u001b[0;31m---------------------------------------------------------------------------\u001b[0m",
      "\u001b[0;31mNameError\u001b[0m                                 Traceback (most recent call last)",
      "Cell \u001b[0;32mIn[2], line 2\u001b[0m\n\u001b[1;32m      1\u001b[0m odir \u001b[38;5;241m=\u001b[39m \u001b[38;5;124m'\u001b[39m\u001b[38;5;124mvrtx_ring_fps\u001b[39m\u001b[38;5;124m'\u001b[39m\n\u001b[0;32m----> 2\u001b[0m \u001b[38;5;28;01mif\u001b[39;00m \u001b[38;5;129;01mnot\u001b[39;00m \u001b[43mos\u001b[49m\u001b[38;5;241m.\u001b[39mpath\u001b[38;5;241m.\u001b[39mexists(odir):\n\u001b[1;32m      3\u001b[0m     os\u001b[38;5;241m.\u001b[39mmakedirs(odir)\n",
      "\u001b[0;31mNameError\u001b[0m: name 'os' is not defined"
     ]
    }
   ],
   "source": [
    "odir = 'vrtx_ring_fps'\n",
    "if not os.path.exists(odir):\n",
    "    os.makedirs(odir)"
   ]
  },
  {
   "cell_type": "code",
   "execution_count": 3,
   "metadata": {},
   "outputs": [
    {
     "name": "stdout",
     "output_type": "stream",
     "text": [
      "Max number of thread: 1024\n",
      "Register usage: 61\n",
      "Memory usage: (local = 208, shared = 0, constant = 0)\n"
     ]
    },
    {
     "name": "stderr",
     "output_type": "stream",
     "text": [
      "  Activating project at `~/Dropbox/code/vorpy`\n"
     ]
    }
   ],
   "source": [
    "# Activate the Julia environment of the current\n",
    "# directory.\n",
    "jl.Pkg.activate('.')\n",
    "\n",
    "# Run the Julia script to load the Biot-Savart\n",
    "# function.\n",
    "# jl.include('julia_src/biot_savart.jl')  # CPU version\n",
    "jl.include('julia_src/biot_savart_cuda.jl')  # GPU version\n",
    "\n",
    "def bs_solve(fps, vpps, vcrds, vcirs):\n",
    "    # Call the Julia function.\n",
    "    return np.transpose(jl.bs_solve(fps.T, vpps.T, vcrds, vcirs))"
   ]
  },
  {
   "cell_type": "code",
   "execution_count": 4,
   "metadata": {},
   "outputs": [],
   "source": [
    "#############################################\n",
    "# Generate a vortex (points, core radii, and\n",
    "# circulation).\n",
    "#############################################\n",
    "\n",
    "NUMSEGS = 100\n",
    "VRADIUS = 1\n",
    "\n",
    "# Generate the vortex points\n",
    "# x = r * cos(theta)\n",
    "# y = r * sin(theta)\n",
    "theta = np.linspace(0, 2 * np.pi, NUMSEGS)\n",
    "vpx = VRADIUS * np.cos(theta)\n",
    "vpy = VRADIUS * np.sin(theta)\n",
    "vpz = np.zeros_like(vpx)\n",
    "vpps = np.concatenate([vpx[:, np.newaxis], vpy[:, np.newaxis], vpz[:, np.newaxis]], axis=1)\n",
    "# To prevent numerical errors, explicitly set\n",
    "# the last point to the the first.\n",
    "vpps[-1] = vpps[0]\n",
    "\n",
    "# Generate the core radii\n",
    "vcrds = np.ones(NUMSEGS+1) * 1.0\n",
    "\n",
    "# Generate the circulation\n",
    "vcirs = np.ones(NUMSEGS+1) * 1.0"
   ]
  },
  {
   "cell_type": "code",
   "execution_count": 5,
   "metadata": {},
   "outputs": [
    {
     "name": "stdout",
     "output_type": "stream",
     "text": [
      "VRADIUS: 1\n",
      "VRADIUS - 20%:  0.8\n",
      "VRADIUS + 20%:  1.2\n",
      "NUMSEGS: 100\n",
      "NUMSEGS - 20%:  80\n",
      "NUMSEGS + 20%:  120\n"
     ]
    }
   ],
   "source": [
    "print('VRADIUS:', VRADIUS)\n",
    "print('VRADIUS - 20%: ', VRADIUS * 0.8)\n",
    "print('VRADIUS + 20%: ', VRADIUS * 1.2)\n",
    "print('NUMSEGS:', NUMSEGS)\n",
    "print('NUMSEGS - 20%: ', int(np.floor(NUMSEGS*0.8)))\n",
    "print('NUMSEGS + 20%: ', int(np.ceil(NUMSEGS*1.2,)))\n",
    "# np.floor(VRADIUS * 0.2)"
   ]
  },
  {
   "cell_type": "code",
   "execution_count": 1,
   "metadata": {},
   "outputs": [
    {
     "ename": "NameError",
     "evalue": "name 'np' is not defined",
     "output_type": "error",
     "traceback": [
      "\u001b[0;31m---------------------------------------------------------------------------\u001b[0m",
      "\u001b[0;31mNameError\u001b[0m                                 Traceback (most recent call last)",
      "Cell \u001b[0;32mIn[1], line 37\u001b[0m\n\u001b[1;32m     33\u001b[0m     \u001b[38;5;28;01mreturn\u001b[39;00m cym\n\u001b[1;32m     35\u001b[0m \u001b[38;5;66;03m# rpts = np.arange(15, 20)\u001b[39;00m\n\u001b[1;32m     36\u001b[0m \u001b[38;5;66;03m# fps = [cylin_mesh(7, 40, rpts)]\u001b[39;00m\n\u001b[0;32m---> 37\u001b[0m fps \u001b[38;5;241m=\u001b[39m [cylin_mesh(\u001b[38;5;241m0.1\u001b[39m, \u001b[38;5;241m0.6\u001b[39m, \u001b[43mnp\u001b[49m\u001b[38;5;241m.\u001b[39marange(\u001b[38;5;241m4\u001b[39m, \u001b[38;5;241m7\u001b[39m), np\u001b[38;5;241m.\u001b[39mlinspace(\u001b[38;5;241m-\u001b[39m\u001b[38;5;241m1\u001b[39m, \u001b[38;5;241m1\u001b[39m, \u001b[38;5;241m20\u001b[39m)),  \u001b[38;5;66;03m# center of ring\u001b[39;00m\n\u001b[1;32m     38\u001b[0m        cylin_mesh(\u001b[38;5;241m0.7\u001b[39m, \u001b[38;5;241m1.3\u001b[39m, np\u001b[38;5;241m.\u001b[39marange(\u001b[38;5;241m20\u001b[39m, \u001b[38;5;241m30\u001b[39m), np\u001b[38;5;241m.\u001b[39mlinspace(\u001b[38;5;241m-\u001b[39m\u001b[38;5;241m2\u001b[39m, \u001b[38;5;241m2\u001b[39m, \u001b[38;5;241m20\u001b[39m)),  \u001b[38;5;66;03m# ring\u001b[39;00m\n\u001b[1;32m     39\u001b[0m        cylin_mesh(\u001b[38;5;241m1.7\u001b[39m, \u001b[38;5;241m4\u001b[39m, np\u001b[38;5;241m.\u001b[39marange(\u001b[38;5;241m15\u001b[39m, \u001b[38;5;241m20\u001b[39m), np\u001b[38;5;241m.\u001b[39mlinspace(\u001b[38;5;241m-\u001b[39m\u001b[38;5;241m10\u001b[39m, \u001b[38;5;241m10\u001b[39m, \u001b[38;5;241m20\u001b[39m)),  \u001b[38;5;66;03m# outside of ring (near)\u001b[39;00m\n\u001b[1;32m     40\u001b[0m        cylin_mesh(\u001b[38;5;241m7\u001b[39m, \u001b[38;5;241m40\u001b[39m, np\u001b[38;5;241m.\u001b[39marange(\u001b[38;5;241m15\u001b[39m, \u001b[38;5;241m20\u001b[39m), np\u001b[38;5;241m.\u001b[39mlinspace(\u001b[38;5;241m-\u001b[39m\u001b[38;5;241m40\u001b[39m, \u001b[38;5;241m40\u001b[39m, \u001b[38;5;241m20\u001b[39m))]  \u001b[38;5;66;03m# outside of ring (far)\u001b[39;00m\n\u001b[1;32m     42\u001b[0m fps \u001b[38;5;241m=\u001b[39m np\u001b[38;5;241m.\u001b[39mconcatenate(fps, axis\u001b[38;5;241m=\u001b[39m\u001b[38;5;241m0\u001b[39m)\n\u001b[1;32m     43\u001b[0m \u001b[38;5;28mprint\u001b[39m(\u001b[38;5;124m'\u001b[39m\u001b[38;5;124mfps.shape:\u001b[39m\u001b[38;5;124m'\u001b[39m, fps\u001b[38;5;241m.\u001b[39mshape)\n",
      "\u001b[0;31mNameError\u001b[0m: name 'np' is not defined"
     ]
    }
   ],
   "source": [
    "# NEED TO ADD Z COORDINATES\n",
    "def cylin_mesh(r1, r2, rptsarray, zarray=[0]):\n",
    "    # nsegarray: array with length rsteps which\n",
    "    # specifies the number of segments for each\n",
    "    # radius step.\n",
    "\n",
    "    nrsteps = len(rptsarray)\n",
    "    dr = (r2 - r1) / nrsteps\n",
    "\n",
    "    cymx = []\n",
    "    cymy = []\n",
    "\n",
    "    for i in range(0, nrsteps):\n",
    "        theta = np.linspace(0, 2 * np.pi, rptsarray[i])\n",
    "        rad = (dr * i) + r1\n",
    "        # The phase is used to add some noise to the\n",
    "        # points. This is to prevent the points from\n",
    "        # being perfectly aligned.\n",
    "        phase = 0  # (np.pi / 3) * i\n",
    "        cymx.append(rad * np.cos(theta+phase))\n",
    "        cymy.append(rad * np.sin(theta+phase))\n",
    "\n",
    "    cymx = np.concatenate(cymx)\n",
    "    stride = len(cymx)\n",
    "    cymy = np.concatenate(cymy)\n",
    "\n",
    "    nzsteps = len(zarray)\n",
    "    cym = np.zeros((nzsteps * stride, 3))\n",
    "    cym[:, 0] = np.tile(cymx, nzsteps)\n",
    "    cym[:, 1] = np.tile(cymy, nzsteps)\n",
    "    cym[:, 2] = np.repeat(zarray, stride)\n",
    "\n",
    "    return cym\n",
    "\n",
    "# rpts = np.arange(15, 20)\n",
    "# fps = [cylin_mesh(7, 40, rpts)]\n",
    "fps = [cylin_mesh(0.1, 0.6, np.arange(4, 7), np.linspace(-1, 1, 20)),  # center of ring\n",
    "       cylin_mesh(0.7, 1.3, np.arange(20, 30), np.linspace(-2, 2, 20)),  # ring\n",
    "       cylin_mesh(1.7, 4, np.arange(15, 20), np.linspace(-10, 10, 20)),  # outside of ring (near)\n",
    "       cylin_mesh(7, 40, np.arange(15, 20), np.linspace(-40, 40, 20))]  # outside of ring (far)\n",
    "\n",
    "fps = np.concatenate(fps, axis=0)\n",
    "print('fps.shape:', fps.shape)\n",
    "\n",
    "plt.scatter(fps[:, 0], fps[:, 1], marker='x', c='r', label='fps')\n",
    "plt.plot(vpx, vpy, '.-', color='lightblue')\n",
    "# plt.xlim(-2, 2)\n",
    "# plt.ylim(-2, 2)\n",
    "plt.show()\n"
   ]
  },
  {
   "cell_type": "code",
   "execution_count": 7,
   "metadata": {},
   "outputs": [],
   "source": [
    "vel_num = bs_solve(fps, vpps, vcrds, vcirs)"
   ]
  },
  {
   "cell_type": "code",
   "execution_count": 8,
   "metadata": {},
   "outputs": [],
   "source": [
    "fpsvls = np.concatenate([fps, vel_num], axis=1)\n",
    "np.savetxt('vrtx_ring_fps/vel_num.csv', fpsvls, delimiter=',', newline='\\n')"
   ]
  },
  {
   "cell_type": "code",
   "execution_count": 9,
   "metadata": {},
   "outputs": [],
   "source": [
    "fieldpoints = geo.Points(\n",
    "    fps,\n",
    "    vel=vel_num,\n",
    "    display=dict(),\n",
    "    metadata=dict()\n",
    ")\n",
    "\n",
    "fieldpoints.save(os.path.join(odir, 'fieldpoints.vtp'))"
   ]
  },
  {
   "cell_type": "code",
   "execution_count": 10,
   "metadata": {},
   "outputs": [],
   "source": [
    "# def fps_gen(radius, numsegs):\n",
    "#     fpsx = []\n",
    "#     fpsy = []\n",
    "#     # numsegs = 50\n",
    "#     # radius = .65\n",
    "#     for i in range(1, 10):\n",
    "#         numfps1 = int(np.ceil(numsegs * (0.7 + i * 0.1)))\n",
    "#         theta = np.linspace(0, 2 * np.pi, numfps1)\n",
    "#         fpsx.append(radius * (1 + i * 0.1) * np.cos(theta))\n",
    "#         fpsy.append(radius * (1 + i * 0.1) * np.sin(theta))\n",
    "\n",
    "#     fpsx = np.concatenate(fpsx)\n",
    "#     stride = len(fpsx)\n",
    "#     fpsy = np.concatenate(fpsy)\n",
    "\n",
    "#     fps = np.zeros((3 * stride, 3))\n",
    "#     fps[:, 0] = np.tile(fpsx, 3)\n",
    "#     fps[:, 1] = np.tile(fpsy, 3)\n",
    "\n",
    "#     # z = np.linspace(-1, 1, 3)\n",
    "#     # for i in range(len(z)-1):\n",
    "#     #     fps1[stride*i:stride*(i+1), 2] = z[i]\n",
    "\n",
    "#     return fps\n",
    "\n",
    "# fps1 = fps_gen(0.65, 10)\n",
    "\n",
    "# plt.scatter(fps1[:, 0], fps1[:, 1], marker='x', c='r', label='fps1')\n",
    "# plt.plot(vpx, vpy, '.-', color='lightblue')\n",
    "# plt.show()"
   ]
  },
  {
   "cell_type": "code",
   "execution_count": 11,
   "metadata": {},
   "outputs": [],
   "source": [
    "# vel_num = bs_solve(fps, vpps, vcrds, vcirs)\n",
    "# ax = plt.figure().add_subplot(projection='3d')\n",
    "# ax.quiver(fps[:, 0], fps[:, 1], fps[:, 2], vel_num[:, 0], vel_num[:, 1], vel_num[:, 2], length=0.02, normalize=True, linewidth=0.5)\n",
    "# ax.view_init(80, 30)\n",
    "# plt.show()"
   ]
  },
  {
   "cell_type": "code",
   "execution_count": 12,
   "metadata": {},
   "outputs": [],
   "source": [
    "# # # Generate the field points\n",
    "# # x = np.linspace(-2, 2, NUMFP)\n",
    "# # y = np.linspace(-2, 2, NUMFP)\n",
    "# # # z = np.linspace(-2, 2, NUMFP)\n",
    "# # # z = np.zeros_like(x)\n",
    "# # z = np.array([0])\n",
    "# # mgx, mgy, mgz = np.meshgrid(x, y, z)\n",
    "# # fps = np.concatenate([mgx.flatten()[:, np.newaxis], mgy.flatten()[:, np.newaxis], mgz.flatten()[:, np.newaxis]], axis=1)\n",
    "# # print('Shape of fps:', fps.shape)\n",
    "# # # plt.scatter(fps[:, 0], fps[:, 1], marker='x', color='r')\n",
    "# # # plt.show()\n",
    "\n",
    "\n",
    "# # plt.imshow(vel_num[:, 2].reshape(NUMFP, NUMFP))\n",
    "# levels = np.linspace(np.min(vel_num[:, 2]), np.max(vel_num[:, 2]), 7)\n",
    "# plt.contourf(fps[:, 0], fps[:, 1], vel_num[:, 2], levels=levels, cmap='magma')\n",
    "# plt.colorbar()\n",
    "# plt.plot(vpx, vpy, '.-', color='lightblue')\n",
    "# # plt.scatter(fps[:, 0], fps[:, 1], marker='x', color='r')\n",
    "# plt.show()"
   ]
  },
  {
   "cell_type": "code",
   "execution_count": null,
   "metadata": {},
   "outputs": [],
   "source": []
  }
 ],
 "metadata": {
  "kernelspec": {
   "display_name": "202401tfjax",
   "language": "python",
   "name": "python3"
  },
  "language_info": {
   "codemirror_mode": {
    "name": "ipython",
    "version": 3
   },
   "file_extension": ".py",
   "mimetype": "text/x-python",
   "name": "python",
   "nbconvert_exporter": "python",
   "pygments_lexer": "ipython3",
   "version": "3.11.7"
  }
 },
 "nbformat": 4,
 "nbformat_minor": 2
}
