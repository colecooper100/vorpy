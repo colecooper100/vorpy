{
 "cells": [
  {
   "cell_type": "code",
   "execution_count": 1,
   "metadata": {},
   "outputs": [
    {
     "name": "stderr",
     "output_type": "stream",
     "text": [
      "  Activating project at `~/Dropbox/code/vorpy`"
     ]
    },
    {
     "name": "stdout",
     "output_type": "stream",
     "text": [
      "Max number of thread: 640\n",
      "Register usage: 96\n",
      "Memory usage: (local = 280, shared = 0, constant = 0)\n"
     ]
    },
    {
     "name": "stderr",
     "output_type": "stream",
     "text": [
      "\n"
     ]
    }
   ],
   "source": [
    "import os  # for saving files\n",
    "import numpy as np\n",
    "from matplotlib import pyplot as plt\n",
    "\n",
    "# from muvi import geometry as geo\n",
    "\n",
    "import vorpy as vp  # This can take ~20s for CUDA method to load\n"
   ]
  },
  {
   "cell_type": "code",
   "execution_count": 2,
   "metadata": {},
   "outputs": [],
   "source": [
    "odir = 'vrtx_ring_fps'\n",
    "if not os.path.exists(odir):\n",
    "    os.makedirs(odir)"
   ]
  },
  {
   "cell_type": "code",
   "execution_count": 3,
   "metadata": {},
   "outputs": [],
   "source": [
    "#############################################\n",
    "# Generate a vortex (points, core radii, and\n",
    "# circulation).\n",
    "#############################################\n",
    "\n",
    "# Vortex paramters\n",
    "NUMSEGS = 100\n",
    "RINGRADIUS = 5\n",
    "CORERADIUS = 1\n",
    "\n",
    "# Generate the vortex points\n",
    "theta = np.linspace(0, 2 * np.pi, NUMSEGS)\n",
    "vpx = RINGRADIUS * np.cos(theta) + 10\n",
    "vpy = RINGRADIUS * np.sin(theta) + 10\n",
    "vpz = np.zeros_like(vpx) + 10\n",
    "vpps = np.concatenate([vpx[:, np.newaxis], vpy[:, np.newaxis], vpz[:, np.newaxis]], axis=1)\n",
    "# To prevent numerical errors, explicitly set\n",
    "# the last point to the the first.\n",
    "vpps[-1] = vpps[0]\n",
    "\n",
    "# Generate the core radii\n",
    "vcrds = np.ones(NUMSEGS+1) * 1.0\n",
    "\n",
    "# Generate the circulation\n",
    "vcirs = np.ones(NUMSEGS+1) * 1.0"
   ]
  },
  {
   "cell_type": "code",
   "execution_count": 4,
   "metadata": {},
   "outputs": [],
   "source": [
    "# Boundary function takes a point and returns\n",
    "# true if the point is inside the boundary\n",
    "# The boundary functions are then used in the\n",
    "# loop for deleting points where they are used\n",
    "# to check if given point is inside the given\n",
    "# boundary.\n",
    "\n",
    "def far_field_boundary(x, y, z, center=(10, 10, 10), radius=6):\n",
    "    xshf = x - center[0]\n",
    "    yshf = y - center[1]\n",
    "    zshf = z - center[2]\n",
    "    return (xshf**2 + yshf**2) > radius**2 and center[2]-1 <= zshf <= center[2]+1\n",
    "\n",
    "def ring_boundary(x, y, z, center=(10, 10, 10), radius1=4, radius2=6):\n",
    "    xshf = x - center[0]\n",
    "    yshf = y - center[1]\n",
    "    zshf = z - center[2]\n",
    "    \n",
    "    def outer_ring(x, y):\n",
    "        return (x**2 + y**2) <= radius2**2 \n",
    "\n",
    "    def inner_ring(x, y):\n",
    "        return (x**2 + y**2) >= radius1**2\n",
    "    \n",
    "    return outer_ring(xshf, yshf) and inner_ring(xshf, yshf) and center[2]-1 <= zshf <= center[2]+1\n",
    "\n",
    "def ring_center_boundary(x, y, z, center=(10, 10, 10), radius=4):\n",
    "    xshf = x - center[0]\n",
    "    yshf = y - center[1]\n",
    "    zshf = z - center[2]\n",
    "    return (xshf**2 + yshf**2) < radius**2 and center[2]-1 <= zshf <= center[2]+1\n",
    "\n",
    "# https://en.wikipedia.org/wiki/Torus\n",
    "# Let R be the distance from the center of the tube\n",
    "# to the center of the torus (i.e., the major radius),\n",
    "# and r be the radius of the tube (i.e., the minor\n",
    "# radius).\n",
    "# R / r is known as the aspect ratio.\n",
    "# - R > r: ring torus\n",
    "# - R = r: horn torus\n",
    "# - R < r: self intersecting spindle torus\n",
    "# - R = 0: torus degenerates to a sphere\n",
    "# When R >= r, the interior of the torus\n",
    "# is given by\n",
    "# (sqrt(x^2 + y^2) - R)^2 + z^2 < r^2\n",
    "def torus_boundary(x, y, z, center=(10, 10, 10), major_radius=5, minor_radius=2):\n",
    "    xshf = x - center[0]\n",
    "    yshf = y - center[1]\n",
    "    zshf = z - center[2]\n",
    "    return (np.sqrt(xshf**2 + yshf**2) - major_radius)**2 + zshf**2 <= minor_radius**2\n",
    "\n",
    "def torus_outside_boundray(x, y, z, center=(10, 10, 10), major_radius=5, minor_radius=2):\n",
    "    return not torus_boundary(x, y, z, center, major_radius, minor_radius)\n"
   ]
  },
  {
   "cell_type": "code",
   "execution_count": 5,
   "metadata": {},
   "outputs": [],
   "source": [
    "# What I want to be able to do:\n",
    "# - [x] specify a density of points (points per area)\n",
    "# - [x] specify a spacing between points (a sphere of empty space around each point)\n",
    "# - [x] specify a region of interest (e.g. the region on and near the ring)\n",
    "\n",
    "\n",
    "def euclidean_distance(pnt1, pnt2):\n",
    "    return np.sqrt(np.sum((pnt1 - pnt2)**2))\n",
    "\n",
    "\n",
    "def random_field_point_generator(numpts,\n",
    "                                 spacing,\n",
    "                                 xbounds,\n",
    "                                 ybounds,\n",
    "                                 zbounds,\n",
    "                                 bounding_func=lambda x, y: True):\n",
    "    '''\n",
    "    numpts: number of points to generate. Final returned array may\n",
    "        have fewer points if some are too close together.\n",
    "    spacing: minimum radius of empty space around each point.\n",
    "    xbounds: [xmin, xmax]\n",
    "    ybounds: [ymin, ymax]\n",
    "    zbounds: [zmin, zmax]\n",
    "    bounding_func: function that takes x and y and returns True if\n",
    "        the point is inside the boundary. If True, then every point\n",
    "        is inside the boundary.\n",
    "    '''\n",
    "    # Generate random points\n",
    "    rndxpnts = np.random.default_rng().uniform(*xbounds, numpts)\n",
    "    rndypnts = np.random.default_rng().uniform(*ybounds, numpts)\n",
    "    rndzpnts = np.random.default_rng().uniform(*zbounds, numpts)\n",
    "    rndpnts = np.concatenate([rndxpnts[:, np.newaxis],\n",
    "                              rndypnts[:, np.newaxis],\n",
    "                              rndzpnts[:, np.newaxis]], axis=1)\n",
    "    \n",
    "    # print('rndpnts.shape:', rndpnts.shape)  # DEBUG\n",
    "    \n",
    "    # Keep picking points until one is inside the boundary\n",
    "    # Rather than stopping the loop after iterating over\n",
    "    # the whole array, we need to stop after some amount of\n",
    "    # time or iterations (basically, assume the loop will not\n",
    "    # terminate and stop it manually).\n",
    "    indx1 = 0\n",
    "    while(indx1 < len(rndpnts)):\n",
    "        print('Progress:', f'{indx1/len(rndpnts):.2%}', end='\\r')\n",
    "\n",
    "        # First check if point is inside the boundary\n",
    "        # if not, delete the point\n",
    "        # We check both pnt1 and pnt2 against the boundary\n",
    "        # which improves performance because we don't need\n",
    "        # to check if pnt2 is too close if its not inside\n",
    "        # the boundary.\n",
    "        if not bounding_func(*rndpnts[indx1]):\n",
    "            rndpnts = np.delete(rndpnts, indx1, axis=0)\n",
    "            continue\n",
    "\n",
    "        # As we step through points in rndpnts, we \n",
    "        # checked each indx1 point against all others\n",
    "        # so we can start checking indx2 points at\n",
    "        # indx1. But we don't need to check indx1\n",
    "        # against itself, so we start indx2 at indx1+1.\n",
    "        indx2 = indx1 + 1 \n",
    "        while(indx2 < len(rndpnts)):\n",
    "            if not bounding_func(*rndpnts[indx2]) or euclidean_distance(rndpnts[indx1], rndpnts[indx2]) < spacing:\n",
    "                rndpnts = np.delete(rndpnts, indx2, axis=0)\n",
    "                # Because we deleted a point, the shape of the\n",
    "                # array has changed, so we don't want to increment\n",
    "                # indx2.\n",
    "            else:\n",
    "                indx2 += 1\n",
    "\n",
    "        indx1 += 1\n",
    "\n",
    "    return rndpnts\n",
    "\n"
   ]
  },
  {
   "cell_type": "code",
   "execution_count": 6,
   "metadata": {},
   "outputs": [
    {
     "name": "stdout",
     "output_type": "stream",
     "text": [
      "fps_torus.shape: (250, 3)\n"
     ]
    }
   ],
   "source": [
    "# 100_000 points and spacing of 0.05 resunts in ~5900 points\n",
    "# and takes 2:30 minutes to run.\n",
    "fps_torus = random_field_point_generator(50_000, 1, [0, 20], [0, 20], [0, 20], torus_boundary)\n",
    "print('fps_torus.shape:', fps_torus.shape)\n"
   ]
  },
  {
   "cell_type": "code",
   "execution_count": 7,
   "metadata": {},
   "outputs": [
    {
     "name": "stdout",
     "output_type": "stream",
     "text": [
      "fps_torus.shape: (72, 3)\n"
     ]
    }
   ],
   "source": [
    "fps_not_torus = random_field_point_generator(50_000, 5, [0, 20], [0, 20], [0, 20], torus_outside_boundray)\n",
    "print('fps_torus.shape:', fps_not_torus.shape)"
   ]
  },
  {
   "cell_type": "code",
   "execution_count": 9,
   "metadata": {},
   "outputs": [
    {
     "data": {
      "image/png": "[encoded data removed]",
      "text/plain": [
       "<Figure size 640x480 with 1 Axes>"
      ]
     },
     "metadata": {},
     "output_type": "display_data"
    }
   ],
   "source": [
    "fig = plt.figure()\n",
    "ax = fig.add_subplot(projection='3d')\n",
    "ax.scatter(fps_torus[:, 0], fps_torus[:, 1], fps_torus[:, 2], marker='x', c='r', label='fps')\n",
    "ax.scatter(fps_not_torus[:, 0], fps_not_torus[:, 1], fps_not_torus[:, 2], marker='x', c='g', label='fps_not')\n",
    "ax.plot(vpps[:, 0], vpps[:, 1], vpps[:, 2], c='b', label='vortex')\n",
    "ax.view_init(10, 90)\n",
    "plt.xlim(0, 20)\n",
    "plt.ylim(0, 20)\n",
    "ax.set_zlim(0, 20)\n",
    "plt.show()"
   ]
  },
  {
   "cell_type": "code",
   "execution_count": 10,
   "metadata": {},
   "outputs": [
    {
     "name": "stdout",
     "output_type": "stream",
     "text": [
      "fps.shape: (322, 3)\n"
     ]
    }
   ],
   "source": [
    "fps = np.concatenate([fps_torus, fps_not_torus], axis=0)\n",
    "print('fps.shape:', fps.shape)"
   ]
  },
  {
   "cell_type": "code",
   "execution_count": 11,
   "metadata": {},
   "outputs": [],
   "source": [
    "vel_num = vp.bs_solve(fps, vpps, vcrds, vcirs, device='cuda')"
   ]
  },
  {
   "cell_type": "code",
   "execution_count": 8,
   "metadata": {},
   "outputs": [],
   "source": [
    "fpsvls = np.concatenate([fps, vel_num], axis=1)\n",
    "np.savetxt('vrtx_ring_fps/vel_num.csv', fpsvls, delimiter=',', newline='\\n')"
   ]
  },
  {
   "cell_type": "code",
   "execution_count": 9,
   "metadata": {},
   "outputs": [],
   "source": [
    "fieldpoints = geo.Points(\n",
    "    fps,\n",
    "    vel=vel_num,\n",
    "    display=dict(),\n",
    "    metadata=dict()\n",
    ")\n",
    "\n",
    "fieldpoints.save(os.path.join(odir, 'fieldpoints.vtp'))"
   ]
  },
  {
   "cell_type": "code",
   "execution_count": 10,
   "metadata": {},
   "outputs": [],
   "source": [
    "# def fps_gen(radius, numsegs):\n",
    "#     fpsx = []\n",
    "#     fpsy = []\n",
    "#     # numsegs = 50\n",
    "#     # radius = .65\n",
    "#     for i in range(1, 10):\n",
    "#         numfps1 = int(np.ceil(numsegs * (0.7 + i * 0.1)))\n",
    "#         theta = np.linspace(0, 2 * np.pi, numfps1)\n",
    "#         fpsx.append(radius * (1 + i * 0.1) * np.cos(theta))\n",
    "#         fpsy.append(radius * (1 + i * 0.1) * np.sin(theta))\n",
    "\n",
    "#     fpsx = np.concatenate(fpsx)\n",
    "#     stride = len(fpsx)\n",
    "#     fpsy = np.concatenate(fpsy)\n",
    "\n",
    "#     fps = np.zeros((3 * stride, 3))\n",
    "#     fps[:, 0] = np.tile(fpsx, 3)\n",
    "#     fps[:, 1] = np.tile(fpsy, 3)\n",
    "\n",
    "#     # z = np.linspace(-1, 1, 3)\n",
    "#     # for i in range(len(z)-1):\n",
    "#     #     fps1[stride*i:stride*(i+1), 2] = z[i]\n",
    "\n",
    "#     return fps\n",
    "\n",
    "# fps1 = fps_gen(0.65, 10)\n",
    "\n",
    "# plt.scatter(fps1[:, 0], fps1[:, 1], marker='x', c='r', label='fps1')\n",
    "# plt.plot(vpx, vpy, '.-', color='lightblue')\n",
    "# plt.show()"
   ]
  },
  {
   "cell_type": "code",
   "execution_count": 11,
   "metadata": {},
   "outputs": [],
   "source": [
    "# vel_num = bs_solve(fps, vpps, vcrds, vcirs)\n",
    "# ax = plt.figure().add_subplot(projection='3d')\n",
    "# ax.quiver(fps[:, 0], fps[:, 1], fps[:, 2], vel_num[:, 0], vel_num[:, 1], vel_num[:, 2], length=0.02, normalize=True, linewidth=0.5)\n",
    "# ax.view_init(80, 30)\n",
    "# plt.show()"
   ]
  },
  {
   "cell_type": "code",
   "execution_count": 12,
   "metadata": {},
   "outputs": [],
   "source": [
    "# # # Generate the field points\n",
    "# # x = np.linspace(-2, 2, NUMFP)\n",
    "# # y = np.linspace(-2, 2, NUMFP)\n",
    "# # # z = np.linspace(-2, 2, NUMFP)\n",
    "# # # z = np.zeros_like(x)\n",
    "# # z = np.array([0])\n",
    "# # mgx, mgy, mgz = np.meshgrid(x, y, z)\n",
    "# # fps = np.concatenate([mgx.flatten()[:, np.newaxis], mgy.flatten()[:, np.newaxis], mgz.flatten()[:, np.newaxis]], axis=1)\n",
    "# # print('Shape of fps:', fps.shape)\n",
    "# # # plt.scatter(fps[:, 0], fps[:, 1], marker='x', color='r')\n",
    "# # # plt.show()\n",
    "\n",
    "\n",
    "# # plt.imshow(vel_num[:, 2].reshape(NUMFP, NUMFP))\n",
    "# levels = np.linspace(np.min(vel_num[:, 2]), np.max(vel_num[:, 2]), 7)\n",
    "# plt.contourf(fps[:, 0], fps[:, 1], vel_num[:, 2], levels=levels, cmap='magma')\n",
    "# plt.colorbar()\n",
    "# plt.plot(vpx, vpy, '.-', color='lightblue')\n",
    "# # plt.scatter(fps[:, 0], fps[:, 1], marker='x', color='r')\n",
    "# plt.show()"
   ]
  },
  {
   "cell_type": "code",
   "execution_count": null,
   "metadata": {},
   "outputs": [],
   "source": []
  },
  {
   "cell_type": "code",
   "execution_count": 5,
   "metadata": {},
   "outputs": [],
   "source": [
    "# # NEED TO ADD Z COORDINATES\n",
    "# def cylin_mesh(r1, r2, num_pts_per_rad_ary, zarray=[0]):\n",
    "#     # nsegarray: array with length rsteps which\n",
    "#     # specifies the number of segments for each\n",
    "#     # radius step.\n",
    "\n",
    "#     nrsteps = len(num_pts_per_rad_ary)\n",
    "#     dr = (r2 - r1) / nrsteps\n",
    "\n",
    "#     cymx = []\n",
    "#     cymy = []\n",
    "\n",
    "#     for i in range(0, nrsteps):\n",
    "#         theta = np.linspace(0, 2 * np.pi, num_pts_per_rad_ary[i])\n",
    "#         rad = (dr * i) + r1\n",
    "#         # The phase is used to add some noise to the\n",
    "#         # points. This is to prevent the points from\n",
    "#         # being perfectly aligned.\n",
    "#         phase = 0  # (np.pi / 3) * i\n",
    "#         cymx.append(rad * np.cos(theta+phase))\n",
    "#         cymy.append(rad * np.sin(theta+phase))\n",
    "\n",
    "#     cymx = np.concatenate(cymx)\n",
    "#     stride = len(cymx)\n",
    "#     cymy = np.concatenate(cymy)\n",
    "\n",
    "#     nzsteps = len(zarray)\n",
    "#     cym = np.zeros((nzsteps * stride, 3))\n",
    "#     cym[:, 0] = np.tile(cymx, nzsteps)\n",
    "#     cym[:, 1] = np.tile(cymy, nzsteps)\n",
    "#     cym[:, 2] = np.repeat(zarray, stride)\n",
    "\n",
    "#     return cym\n",
    "\n",
    "# # rpts = np.arange(15, 20)\n",
    "# # fps = [cylin_mesh(7, 40, rpts)]\n",
    "# fps = [cylin_mesh(0.1, 0.6, np.arange(4, 7), np.linspace(-1, 1, 20)),  # center of ring\n",
    "#        cylin_mesh(0.7, 1.3, np.arange(20, 30), np.linspace(-2, 2, 20)),  # ring\n",
    "#        cylin_mesh(1.7, 4, np.arange(15, 20), np.linspace(-10, 10, 20)),  # outside of ring (near)\n",
    "#        cylin_mesh(7, 50, np.arange(15, 20), np.linspace(-40, 40, 20))]  # outside of ring (far)\n",
    "\n",
    "# fps = np.concatenate(fps, axis=0)\n",
    "# print('fps.shape:', fps.shape)\n",
    "\n",
    "# plt.scatter(fps[:, 0], fps[:, 1], marker='x', c='r', label='fps')\n",
    "# plt.plot(vpx, vpy, '.-', color='lightblue')\n",
    "# # plt.xlim(-30, 30)\n",
    "# # plt.ylim(-30, 30)\n",
    "# plt.show()\n"
   ]
  }
 ],
 "metadata": {
  "kernelspec": {
   "display_name": "202401tfjax",
   "language": "python",
   "name": "python3"
  },
  "language_info": {
   "codemirror_mode": {
    "name": "ipython",
    "version": 3
   },
   "file_extension": ".py",
   "mimetype": "text/x-python",
   "name": "python",
   "nbconvert_exporter": "python",
   "pygments_lexer": "ipython3",
   "version": "3.11.7"
  }
 },
 "nbformat": 4,
 "nbformat_minor": 2
}
