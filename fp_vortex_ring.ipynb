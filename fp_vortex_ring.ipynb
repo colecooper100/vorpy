{
 "cells": [
  {
   "cell_type": "code",
   "execution_count": 1,
   "metadata": {},
   "outputs": [
    {
     "name": "stderr",
     "output_type": "stream",
     "text": [
      "  Activating project at `~/Dropbox/code/vorpy`\n"
     ]
    },
    {
     "name": "stdout",
     "output_type": "stream",
     "text": [
      "Max number of thread: 640\n",
      "Register usage: 96\n",
      "Memory usage: (local = 280, shared = 0, constant = 0)\n"
     ]
    }
   ],
   "source": [
    "import os  # for saving files\n",
    "import numpy as np\n",
    "from matplotlib import pyplot as plt\n",
    "\n",
    "# from muvi import geometry as geo\n",
    "\n",
    "import vorpy as vp  # This can take ~20s for CUDA method to load\n"
   ]
  },
  {
   "cell_type": "code",
   "execution_count": 2,
   "metadata": {},
   "outputs": [],
   "source": [
    "odir = 'vrtx_ring_fps'\n",
    "if not os.path.exists(odir):\n",
    "    os.makedirs(odir)"
   ]
  },
  {
   "cell_type": "code",
   "execution_count": 3,
   "metadata": {},
   "outputs": [],
   "source": [
    "# # Activate the Julia environment of the current\n",
    "# # directory.\n",
    "# jl.Pkg.activate('.')\n",
    "\n",
    "# # Run the Julia script to load the Biot-Savart\n",
    "# # function.\n",
    "# # jl.include('julia_src/biot_savart.jl')  # CPU version\n",
    "# jl.include('julia_src/biot_savart_cuda.jl')  # GPU version\n",
    "\n",
    "# def bs_solve(fps, vpps, vcrds, vcirs):\n",
    "#     # Call the Julia function.\n",
    "#     return np.transpose(jl.bs_solve(fps.T, vpps.T, vcrds, vcirs))"
   ]
  },
  {
   "cell_type": "code",
   "execution_count": 4,
   "metadata": {},
   "outputs": [],
   "source": [
    "#############################################\n",
    "# Generate a vortex (points, core radii, and\n",
    "# circulation).\n",
    "#############################################\n",
    "\n",
    "NUMSEGS = 100\n",
    "RINGRADIUS = 10\n",
    "\n",
    "# Generate the vortex points\n",
    "# x = r * cos(theta)\n",
    "# y = r * sin(theta)\n",
    "theta = np.linspace(0, 2 * np.pi, NUMSEGS)\n",
    "vpx = RINGRADIUS * np.cos(theta)\n",
    "vpy = RINGRADIUS * np.sin(theta)\n",
    "vpz = np.zeros_like(vpx)\n",
    "vpps = np.concatenate([vpx[:, np.newaxis], vpy[:, np.newaxis], vpz[:, np.newaxis]], axis=1)\n",
    "# To prevent numerical errors, explicitly set\n",
    "# the last point to the the first.\n",
    "vpps[-1] = vpps[0]\n",
    "\n",
    "# Generate the core radii\n",
    "vcrds = np.ones(NUMSEGS+1) * 1.0\n",
    "\n",
    "# Generate the circulation\n",
    "vcirs = np.ones(NUMSEGS+1) * 1.0"
   ]
  },
  {
   "cell_type": "code",
   "execution_count": 5,
   "metadata": {},
   "outputs": [],
   "source": [
    "# # NEED TO ADD Z COORDINATES\n",
    "# def cylin_mesh(r1, r2, num_pts_per_rad_ary, zarray=[0]):\n",
    "#     # nsegarray: array with length rsteps which\n",
    "#     # specifies the number of segments for each\n",
    "#     # radius step.\n",
    "\n",
    "#     nrsteps = len(num_pts_per_rad_ary)\n",
    "#     dr = (r2 - r1) / nrsteps\n",
    "\n",
    "#     cymx = []\n",
    "#     cymy = []\n",
    "\n",
    "#     for i in range(0, nrsteps):\n",
    "#         theta = np.linspace(0, 2 * np.pi, num_pts_per_rad_ary[i])\n",
    "#         rad = (dr * i) + r1\n",
    "#         # The phase is used to add some noise to the\n",
    "#         # points. This is to prevent the points from\n",
    "#         # being perfectly aligned.\n",
    "#         phase = 0  # (np.pi / 3) * i\n",
    "#         cymx.append(rad * np.cos(theta+phase))\n",
    "#         cymy.append(rad * np.sin(theta+phase))\n",
    "\n",
    "#     cymx = np.concatenate(cymx)\n",
    "#     stride = len(cymx)\n",
    "#     cymy = np.concatenate(cymy)\n",
    "\n",
    "#     nzsteps = len(zarray)\n",
    "#     cym = np.zeros((nzsteps * stride, 3))\n",
    "#     cym[:, 0] = np.tile(cymx, nzsteps)\n",
    "#     cym[:, 1] = np.tile(cymy, nzsteps)\n",
    "#     cym[:, 2] = np.repeat(zarray, stride)\n",
    "\n",
    "#     return cym\n",
    "\n",
    "# # rpts = np.arange(15, 20)\n",
    "# # fps = [cylin_mesh(7, 40, rpts)]\n",
    "# fps = [cylin_mesh(0.1, 0.6, np.arange(4, 7), np.linspace(-1, 1, 20)),  # center of ring\n",
    "#        cylin_mesh(0.7, 1.3, np.arange(20, 30), np.linspace(-2, 2, 20)),  # ring\n",
    "#        cylin_mesh(1.7, 4, np.arange(15, 20), np.linspace(-10, 10, 20)),  # outside of ring (near)\n",
    "#        cylin_mesh(7, 50, np.arange(15, 20), np.linspace(-40, 40, 20))]  # outside of ring (far)\n",
    "\n",
    "# fps = np.concatenate(fps, axis=0)\n",
    "# print('fps.shape:', fps.shape)\n",
    "\n",
    "# plt.scatter(fps[:, 0], fps[:, 1], marker='x', c='r', label='fps')\n",
    "# plt.plot(vpx, vpy, '.-', color='lightblue')\n",
    "# # plt.xlim(-30, 30)\n",
    "# # plt.ylim(-30, 30)\n",
    "# plt.show()\n"
   ]
  },
  {
   "cell_type": "code",
   "execution_count": null,
   "metadata": {},
   "outputs": [],
   "source": [
    "# Check if given point is inside some given\n",
    "# boundary.\n",
    "\n",
    "def ring_boundary(x, y):\n",
    "    # Boundary function takes a point and returns\n",
    "    # true if the point is inside the boundary\n",
    "    def outer_ring(x, y):\n",
    "        return (x**2 + y**2) <= 6**2\n",
    "\n",
    "    def inner_ring(x, y):\n",
    "        return (x**2 + y**2) >= 4**2\n",
    "    \n",
    "    return outer_ring(x, y) and inner_ring(x, y)"
   ]
  },
  {
   "cell_type": "code",
   "execution_count": 22,
   "metadata": {},
   "outputs": [
    {
     "name": "stdout",
     "output_type": "stream",
     "text": [
      "NUMPTS: 2000\n",
      "XBOUNDS: [0, 20]\n",
      "YBOUNDS: [0, 20]\n",
      "rndpts.shape: (239, 2)\n"
     ]
    }
   ],
   "source": [
    "# What I want to be able to do:\n",
    "# - [x] specify a density of points (points per area)\n",
    "# - [ ] specify a spacing between points (a sphere of empty space around each point)\n",
    "# - [ ] specify a region of interest (e.g. the region on and near the ring)\n",
    "\n",
    "NUMPTS = 2000\n",
    "SPACING = 1\n",
    "XBOUNDS = [0, 20]\n",
    "YBOUNDS = [0, 20]\n",
    "print('NUMPTS:', NUMPTS)\n",
    "print('XBOUNDS:', XBOUNDS)\n",
    "print('YBOUNDS:', YBOUNDS)\n",
    "\n",
    "# Generate random points\n",
    "rndpts = np.random.default_rng().uniform(0, 20, (NUMPTS, 2))\n",
    "\n",
    "def euclidean_distance(pnt1, pnt2):\n",
    "    return np.sqrt(np.sum((pnt1 - pnt2)**2))\n",
    "\n",
    "# close_points_indx = []  # DEBUG\n",
    "indx1 = 0\n",
    "while(indx1 < len(rndpts)):\n",
    "    print('Progress:', f'{indx1/len(rndpts):.2%}', end='\\r')\n",
    "    # We have already checked all points before\n",
    "    # this one, so we can start checking from\n",
    "    # indx1. But we don't need to check indx1\n",
    "    # against itself, so we start indx2 at indx1+1.\n",
    "    indx2 = indx1 + 1 \n",
    "    # print('indx1:', indx1)  # DEBUG\n",
    "    # print('rndpts[indx1]:', rndpts[indx1])  # DEBUG\n",
    "    while(indx2 < len(rndpts)):\n",
    "        if euclidean_distance(rndpts[indx1], rndpts[indx2]) < SPACING:\n",
    "            # close_points_indx.append((indx1, indx2))  # DEBUG\n",
    "            rndpts = np.delete(rndpts, indx2, axis=0)\n",
    "            # print('deleting indx2:', indx2)  # DEBUG\n",
    "            # Because we deleted a point, the shape of the\n",
    "            # array has changed, so we don't want to increment\n",
    "            # indx2.\n",
    "        else:\n",
    "            indx2 += 1\n",
    "            # print('indx2:', indx2)  # DEBUG\n",
    "\n",
    "    indx1 += 1\n",
    "    # print('indx1:', indx1)  # DEBUG\n",
    "\n",
    "# print('len(close_points_indx):', len(close_points_indx))\n",
    "# print('close_points_indx:', close_points_indx)\n",
    "print('rndpts.shape:', rndpts.shape)\n",
    "\n"
   ]
  },
  {
   "cell_type": "code",
   "execution_count": 23,
   "metadata": {},
   "outputs": [],
   "source": [
    "# density = NUMPTS / ((XBOUNDS[1] - XBOUNDS[0]) * (YBOUNDS[1] - YBOUNDS[0]))\n",
    "# print('density:', density)\n",
    "\n",
    "# numptsgid = int(density * 2 * 2)\n",
    "# print('numptsgid:', numptsgid)\n"
   ]
  },
  {
   "cell_type": "code",
   "execution_count": 24,
   "metadata": {},
   "outputs": [],
   "source": [
    "# # rndpts2 = []\n",
    "# # for i in range(0, 20, 2):\n",
    "# #     for ii in range(0, 20, 2):\n",
    "# #         x = np.random.default_rng().uniform(0, 2, numptsgid) + (XBOUNDS[0] + i)\n",
    "# #         y = (YBOUNDS[1] - ii) - np.random.default_rng().uniform(0, 2, numptsgid)\n",
    "# #         rndpts2.append(np.concatenate([x[:, np.newaxis], y[:, np.newaxis]], axis=1))\n",
    "\n",
    "# # rndpts2 = np.concatenate(rndpts2)\n",
    "# # print('gridpts.shape:', rndpts2.shape)\n",
    "# # # print(rndpts2)\n",
    "\n",
    "# SPACING = 1\n",
    "\n",
    "# def euclidean_distance(pnt1, pnt2):\n",
    "#     return np.sqrt(np.sum((pnt1 - pnt2)**2))\n",
    "\n",
    "# rndpts2 = []\n",
    "# gridpnts = []\n",
    "# for i in range(0, 20, 2):\n",
    "#     for ii in range(0, 20, 2):\n",
    "#         good_pnt = False\n",
    "#         loop_count = 0\n",
    "#         while not good_pnt:\n",
    "#             x = np.random.default_rng().uniform(0, 2) + (XBOUNDS[0] + i)\n",
    "#             y = (YBOUNDS[1] - ii) - np.random.default_rng().uniform(0, 2)\n",
    "#             pnt = np.array([x, y])\n",
    "#             if len(gridpnts) == 0:\n",
    "#                 gridpnts.append(pnt)\n",
    "#                 good_pnt = True\n",
    "#             else:\n",
    "#                 for pnt2 in gridpnts:\n",
    "#                     if euclidean_distance(pnt, pnt2) > SPACING:\n",
    "#                         gridpnts.append(pnt)\n",
    "#                         print(f'{i},{ii}:', pnt, 'and', pnt2, 'are far enough')\n",
    "#                         good_pnt = True\n",
    "#                     else:\n",
    "#                         print(f'{i},{ii}:', pnt, 'and', pnt2, 'are too close')\n",
    "#                         good_pnt = False\n",
    "\n",
    "#             loop_count += 1\n",
    "\n",
    "#         print('Out of for loop.', 'Loop count:', loop_count)\n",
    "\n",
    "        \n",
    "#     rndpts2.append(gridpnts)\n",
    "\n",
    "\n",
    "# rndpts2 = np.concatenate(rndpts2)\n",
    "# print('gridpts.shape:', rndpts2.shape)\n",
    "# # print(rndpts2)\n",
    "\n",
    "\n",
    "\n",
    "\n"
   ]
  },
  {
   "cell_type": "code",
   "execution_count": 25,
   "metadata": {},
   "outputs": [
    {
     "data": {
      "image/png": "[encoded data removed]",
      "text/plain": [
       "<Figure size 640x480 with 1 Axes>"
      ]
     },
     "metadata": {},
     "output_type": "display_data"
    }
   ],
   "source": [
    "plt.scatter(rndpts[:, 0], rndpts[:, 1], marker='o', c='b', label='rndpts1')\n",
    "# plt.scatter(rndpts2[:, 0], rndpts2[:, 1], marker='x', c='r', label='rndpts2')\n",
    "# plt.xlim(XBOUNDS[0]-5, XBOUNDS[1]+5)\n",
    "# plt.ylim(YBOUNDS[0]-5, YBOUNDS[1]+5)\n",
    "# plt.xlim(10, 15)\n",
    "# plt.ylim(10, 15)\n",
    "plt.show()"
   ]
  },
  {
   "cell_type": "code",
   "execution_count": 7,
   "metadata": {},
   "outputs": [],
   "source": [
    "vel_num = vpcu.bs_solve(fps, vpps, vcrds, vcirs)"
   ]
  },
  {
   "cell_type": "code",
   "execution_count": 8,
   "metadata": {},
   "outputs": [],
   "source": [
    "fpsvls = np.concatenate([fps, vel_num], axis=1)\n",
    "np.savetxt('vrtx_ring_fps/vel_num.csv', fpsvls, delimiter=',', newline='\\n')"
   ]
  },
  {
   "cell_type": "code",
   "execution_count": 9,
   "metadata": {},
   "outputs": [],
   "source": [
    "fieldpoints = geo.Points(\n",
    "    fps,\n",
    "    vel=vel_num,\n",
    "    display=dict(),\n",
    "    metadata=dict()\n",
    ")\n",
    "\n",
    "fieldpoints.save(os.path.join(odir, 'fieldpoints.vtp'))"
   ]
  },
  {
   "cell_type": "code",
   "execution_count": 10,
   "metadata": {},
   "outputs": [],
   "source": [
    "# def fps_gen(radius, numsegs):\n",
    "#     fpsx = []\n",
    "#     fpsy = []\n",
    "#     # numsegs = 50\n",
    "#     # radius = .65\n",
    "#     for i in range(1, 10):\n",
    "#         numfps1 = int(np.ceil(numsegs * (0.7 + i * 0.1)))\n",
    "#         theta = np.linspace(0, 2 * np.pi, numfps1)\n",
    "#         fpsx.append(radius * (1 + i * 0.1) * np.cos(theta))\n",
    "#         fpsy.append(radius * (1 + i * 0.1) * np.sin(theta))\n",
    "\n",
    "#     fpsx = np.concatenate(fpsx)\n",
    "#     stride = len(fpsx)\n",
    "#     fpsy = np.concatenate(fpsy)\n",
    "\n",
    "#     fps = np.zeros((3 * stride, 3))\n",
    "#     fps[:, 0] = np.tile(fpsx, 3)\n",
    "#     fps[:, 1] = np.tile(fpsy, 3)\n",
    "\n",
    "#     # z = np.linspace(-1, 1, 3)\n",
    "#     # for i in range(len(z)-1):\n",
    "#     #     fps1[stride*i:stride*(i+1), 2] = z[i]\n",
    "\n",
    "#     return fps\n",
    "\n",
    "# fps1 = fps_gen(0.65, 10)\n",
    "\n",
    "# plt.scatter(fps1[:, 0], fps1[:, 1], marker='x', c='r', label='fps1')\n",
    "# plt.plot(vpx, vpy, '.-', color='lightblue')\n",
    "# plt.show()"
   ]
  },
  {
   "cell_type": "code",
   "execution_count": 11,
   "metadata": {},
   "outputs": [],
   "source": [
    "# vel_num = bs_solve(fps, vpps, vcrds, vcirs)\n",
    "# ax = plt.figure().add_subplot(projection='3d')\n",
    "# ax.quiver(fps[:, 0], fps[:, 1], fps[:, 2], vel_num[:, 0], vel_num[:, 1], vel_num[:, 2], length=0.02, normalize=True, linewidth=0.5)\n",
    "# ax.view_init(80, 30)\n",
    "# plt.show()"
   ]
  },
  {
   "cell_type": "code",
   "execution_count": 12,
   "metadata": {},
   "outputs": [],
   "source": [
    "# # # Generate the field points\n",
    "# # x = np.linspace(-2, 2, NUMFP)\n",
    "# # y = np.linspace(-2, 2, NUMFP)\n",
    "# # # z = np.linspace(-2, 2, NUMFP)\n",
    "# # # z = np.zeros_like(x)\n",
    "# # z = np.array([0])\n",
    "# # mgx, mgy, mgz = np.meshgrid(x, y, z)\n",
    "# # fps = np.concatenate([mgx.flatten()[:, np.newaxis], mgy.flatten()[:, np.newaxis], mgz.flatten()[:, np.newaxis]], axis=1)\n",
    "# # print('Shape of fps:', fps.shape)\n",
    "# # # plt.scatter(fps[:, 0], fps[:, 1], marker='x', color='r')\n",
    "# # # plt.show()\n",
    "\n",
    "\n",
    "# # plt.imshow(vel_num[:, 2].reshape(NUMFP, NUMFP))\n",
    "# levels = np.linspace(np.min(vel_num[:, 2]), np.max(vel_num[:, 2]), 7)\n",
    "# plt.contourf(fps[:, 0], fps[:, 1], vel_num[:, 2], levels=levels, cmap='magma')\n",
    "# plt.colorbar()\n",
    "# plt.plot(vpx, vpy, '.-', color='lightblue')\n",
    "# # plt.scatter(fps[:, 0], fps[:, 1], marker='x', color='r')\n",
    "# plt.show()"
   ]
  },
  {
   "cell_type": "code",
   "execution_count": null,
   "metadata": {},
   "outputs": [],
   "source": []
  }
 ],
 "metadata": {
  "kernelspec": {
   "display_name": "202401tfjax",
   "language": "python",
   "name": "python3"
  },
  "language_info": {
   "codemirror_mode": {
    "name": "ipython",
    "version": 3
   },
   "file_extension": ".py",
   "mimetype": "text/x-python",
   "name": "python",
   "nbconvert_exporter": "python",
   "pygments_lexer": "ipython3",
   "version": "3.11.7"
  }
 },
 "nbformat": 4,
 "nbformat_minor": 2
}
