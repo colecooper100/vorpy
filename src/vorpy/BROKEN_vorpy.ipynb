{
 "cells": [
  {
   "cell_type": "markdown",
   "metadata": {},
   "source": [
    "# CUDA MODULE DOESN'T LOAD IN JUPYTER NOTEBOOKS\n",
    "I don't know what the issue is. The CPU version of this code loads fine, but when I try to run the include statement for the CUDA module the code hangs.\n",
    "\n",
    "Great news is, if you run the same code in a Python script everything works as expected"
   ]
  },
  {
   "cell_type": "code",
   "execution_count": 1,
   "metadata": {},
   "outputs": [
    {
     "name": "stderr",
     "output_type": "stream",
     "text": [
      "/home/crashoverride/miniforge3/envs/2024_05_work/lib/python3.12/site-packages/juliacall/__init__.py:237: UserWarning: Julia was started with multiple threads but multithreading support is experimental in JuliaCall. It is recommended to restart Python with the environment variable PYTHON_JULIACALL_HANDLE_SIGNALS=yes set, otherwise you may experience segfaults or other crashes. Note however that this interferes with Python's own signal handling, so for example Ctrl-C will not raise KeyboardInterrupt. See https://juliapy.github.io/PythonCall.jl/stable/faq/#Is-PythonCall/JuliaCall-thread-safe? for further information. You can suppress this warning by setting PYTHON_JULIACALL_HANDLE_SIGNALS=no.\n",
      "  warnings.warn(\n"
     ]
    },
    {
     "name": "stdout",
     "output_type": "stream",
     "text": [
      "Detected IPython. Loading juliacall extension. See https://juliapy.github.io/PythonCall.jl/stable/compat/#IPython\n"
     ]
    }
   ],
   "source": [
    "import os\n",
    "import numpy as np\n",
    "from juliacall import Main as jl"
   ]
  },
  {
   "cell_type": "markdown",
   "metadata": {},
   "source": [
    "JuliaCall should auto detect IPython and activate an extension. See https://juliapy.github.io/PythonCall.jl/stable/compat/#IPython for info on how to use it.\n",
    "\n",
    "Even though I could use IPython magic commands, I'm not going to because ultimately I want this to run in a script."
   ]
  },
  {
   "cell_type": "code",
   "execution_count": 2,
   "metadata": {},
   "outputs": [
    {
     "name": "stdout",
     "output_type": "stream",
     "text": [
      "/home/crashoverride/Dropbox/code/vorpy/julia_fns\n"
     ]
    }
   ],
   "source": [
    "# Get the currebt working directory of the script\n",
    "# with `os.getcwd()`. Relative to this script\n",
    "# the path to the julia functions is `../../julia_fns`\n",
    "# so we can join the current working directory with\n",
    "# the relative path, then use `os.path.normpath` to\n",
    "# get the absolute path. We can then save this as a\n",
    "# global variable in Julia to be used by other\n",
    "# scripts.\n",
    "julia_fns_path = os.path.normpath(os.path.join(os.getcwd(), '../../julia_fns'))\n",
    "print(julia_fns_path)\n"
   ]
  },
  {
   "cell_type": "code",
   "execution_count": 3,
   "metadata": {},
   "outputs": [
    {
     "data": {
      "text/plain": [
       "'/home/crashoverride/Dropbox/code/vorpy/julia_fns'"
      ]
     },
     "execution_count": 3,
     "metadata": {},
     "output_type": "execute_result"
    }
   ],
   "source": [
    "str(julia_fns_path)"
   ]
  },
  {
   "cell_type": "code",
   "execution_count": 4,
   "metadata": {},
   "outputs": [
    {
     "name": "stdout",
     "output_type": "stream",
     "text": [
      "JULIA_FNS: /home/crashoverride/Dropbox/code/vorpy/julia_fns\n",
      "Type of JULIA_FNS: String\n"
     ]
    }
   ],
   "source": [
    "# Make the global variable `JULIA_FNS`, in Julia,\n",
    "# to store the absolute path to `julia_fns`.\n",
    "jl.seval(f'JULIA_FNS = \"{julia_fns_path}\"')\n",
    "print('JULIA_FNS:', jl.JULIA_FNS)\n",
    "print('Type of JULIA_FNS:', jl.typeof(jl.JULIA_FNS))"
   ]
  },
  {
   "cell_type": "code",
   "execution_count": 5,
   "metadata": {},
   "outputs": [
    {
     "name": "stdout",
     "output_type": "stream",
     "text": [
      "Julia environment variables loaded for Vorpy.\n"
     ]
    }
   ],
   "source": [
    "# Next, `include` the file 'julia_env.jl' which sets\n",
    "# several global variables used by the vorpy Julia\n",
    "# functions.\n",
    "jl.seval('include(string(JULIA_FNS, \"/julia_env.jl\"))')"
   ]
  },
  {
   "cell_type": "code",
   "execution_count": 6,
   "metadata": {},
   "outputs": [
    {
     "name": "stderr",
     "output_type": "stream",
     "text": [
      "  Activating project at `~/Dropbox/code/vorpy/julia_fns`\n"
     ]
    }
   ],
   "source": [
    "# Finally, we activate Julia project where\n",
    "# project dependencies are installed. The project toml\n",
    "# and manifest are located in `julia_fns`.\n",
    "# We, reuse the global variable `JULIA_FNS` here\n",
    "# as a check on the `JULIA_FNS` variable. If it is not\n",
    "# set correctly, the following command will fail.\n",
    "jl.Pkg.activate(jl.JULIA_FNS)\n"
   ]
  },
  {
   "cell_type": "code",
   "execution_count": 7,
   "metadata": {},
   "outputs": [],
   "source": [
    "jl.Pkg.instantiate()"
   ]
  },
  {
   "cell_type": "code",
   "execution_count": 8,
   "metadata": {},
   "outputs": [
    {
     "name": "stdout",
     "output_type": "stream",
     "text": [
      "Status `~/Dropbox/code/vorpy/julia_fns/Project.toml`\n",
      "⌃ [6e4b80f9] BenchmarkTools v1.4.0\n",
      "⌃ [052768ef] CUDA v5.2.0\n",
      "⌃ [de52edbc] Integrals v4.1.0\n",
      "⌃ [91a5bcdd] Plots v1.39.0\n",
      "⌃ [90137ffa] StaticArrays v1.9.2\n",
      "Info Packages marked with ⌃ have new versions available and may be upgradable.\n"
     ]
    }
   ],
   "source": [
    "# We can make sure we have the correct project activated\n",
    "# by checking the status of the project (i.e. print a list\n",
    "# of installed packages and their versions).\n",
    "jl.Pkg.status()"
   ]
  },
  {
   "cell_type": "code",
   "execution_count": 9,
   "metadata": {},
   "outputs": [],
   "source": [
    "# Initialize the _WBS_SOLVER_DEVICES dictionary.\n",
    "# We will determine what devices are available\n",
    "# to the user below.\n",
    "_WBS_SOLVER_DEVICES = {}"
   ]
  },
  {
   "cell_type": "code",
   "execution_count": null,
   "metadata": {},
   "outputs": [],
   "source": [
    "jl.seval('include(string(JULIA_FNS, \"/weighted_biot_savart_solver_cuda.jl\"))')"
   ]
  },
  {
   "cell_type": "code",
   "execution_count": null,
   "metadata": {},
   "outputs": [],
   "source": [
    "# Try to load the CUDA Biot-Savart solver. If it works\n",
    "# add it to the _WBS_SOLVER_DEVICES dictionary.\n",
    "\n",
    "# print('''Trying to load Biot-Savart solver. If this is the first time\n",
    "#       running this script, it may take several minutes to compile the\n",
    "#       Julia dependencies. Note: during this time, no information is printed\n",
    "#       to the terminal. Subsequent runs should be faster.''')\n",
    "\n",
    "try:\n",
    "    # Load CUDA Biot-Savart function\n",
    "    jl.include(jl.JULIA_FNS + '/weighted_biot_savart_solver_cuda.jl')\n",
    "\n",
    "    def _wbs_solver_cuda(fps, vpps, vcrds, vcirs):\n",
    "        return np.transpose(jl.weighted_biot_savart_solver_cuda(np.transpose(fps),\n",
    "                                                                np.transpose(vpps),\n",
    "                                                                vcrds,\n",
    "                                                                vcirs))\n",
    "    \n",
    "    _WBS_SOLVER_DEVICES['cuda'] = _wbs_solver_cuda\n",
    "\n",
    "except:\n",
    "    print('CUDA version of Biot-Savart solver not available; revert to CPU version.')\n",
    "\n",
    "finally:\n",
    "    # Load CPU Biot-Savart function.\n",
    "    jl.include(jl.JULIA_FNS + '/weighted_biot_savart_solver_cpu.jl')\n",
    "\n",
    "    # User API\n",
    "    def _wbs_solver_cpu(fps, vpps, vcrds, vcirs):\n",
    "        return np.transpose(jl.weighted_biot_savart_solver_cpu(np.transpose(fps),\n",
    "                                                                np.transpose(vpps),\n",
    "                                                                vcrds,\n",
    "                                                                vcirs))\n",
    "    \n",
    "    _WBS_SOLVER_DEVICES['cpu'] = _wbs_solver_cpu\n",
    "\n",
    "    # User API\n",
    "    def wbs_solve(fps, vpps, vcrds, vcirs, device='cpu'):\n",
    "        try:\n",
    "            return _WBS_SOLVER_DEVICES[device](fps, vpps, vcrds, vcirs)\n",
    "        except KeyError:\n",
    "            raise ValueError(f'Invalid device: \\'{device}\\'. Available devices: {list(_WBS_SOLVER_DEVICES.keys())}')\n",
    "\n"
   ]
  },
  {
   "cell_type": "code",
   "execution_count": null,
   "metadata": {},
   "outputs": [],
   "source": []
  }
 ],
 "metadata": {
  "kernelspec": {
   "display_name": "2024_05_work",
   "language": "python",
   "name": "python3"
  },
  "language_info": {
   "codemirror_mode": {
    "name": "ipython",
    "version": 3
   },
   "file_extension": ".py",
   "mimetype": "text/x-python",
   "name": "python",
   "nbconvert_exporter": "python",
   "pygments_lexer": "ipython3",
   "version": "3.1.-1"
  }
 },
 "nbformat": 4,
 "nbformat_minor": 2
}
