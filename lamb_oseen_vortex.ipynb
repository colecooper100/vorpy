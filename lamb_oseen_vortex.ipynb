{
 "cells": [
  {
   "cell_type": "code",
   "execution_count": 1,
   "id": "initial_id",
   "metadata": {
    "ExecuteTime": {
     "end_time": "2024-01-23T20:14:54.634382Z",
     "start_time": "2024-01-23T20:14:52.891311Z"
    },
    "collapsed": true
   },
   "outputs": [
    {
     "name": "stderr",
     "output_type": "stream",
     "text": [
      "  Activating project at `~/Dropbox/code/vorpy`\n"
     ]
    },
    {
     "name": "stdout",
     "output_type": "stream",
     "text": [
      "Max number of thread: 640\n",
      "Register usage: 96\n",
      "Memory usage: (local = 280, shared = 0, constant = 0)\n"
     ]
    }
   ],
   "source": [
    "import time\n",
    "import numpy as np\n",
    "from matplotlib import pyplot as plt\n",
    "import vorpy as vp  # This takes ~20s for CUDA version to load\n"
   ]
  },
  {
   "cell_type": "code",
   "execution_count": 2,
   "id": "1a194211",
   "metadata": {},
   "outputs": [],
   "source": [
    "# from juliacall import Main as jl\n",
    "\n",
    "# # Activate Julia environment in the\n",
    "# # current working directory (which should be vorpy)\n",
    "# jl.Pkg.activate('.')\n",
    "\n",
    "# # Run the Julia script to load the Biot-Savart\n",
    "# # function.\n",
    "# jl.include('julia_src/weighted_biot_savart_kernel_cuda.jl')\n",
    "# # User API\n",
    "# def bs_solve_cuda(fps, vpps, vcrds, vcirs):\n",
    "#     return np.transpose(jl.bs_solve_cuda(np.transpose(fps),\n",
    "#                                         np.transpose(vpps), vcrds, vcirs))\n",
    "\n",
    "\n",
    "# # Run the Julia script to load the Biot-Savart\n",
    "# # function.\n",
    "# jl.include('julia_src/weighted_biot_savart_kernel_cpu.jl')  # GPU version\n",
    "# def bs_solve_cpu(fps, vpps, vcrds, vcirs):\n",
    "#     return np.transpose(jl.bs_solve_cpu(np.transpose(fps),\n",
    "#                                         np.transpose(vpps), vcrds, vcirs))"
   ]
  },
  {
   "cell_type": "code",
   "execution_count": 3,
   "id": "3cebe5207fa7df30",
   "metadata": {
    "ExecuteTime": {
     "end_time": "2024-01-23T20:14:55.958107Z",
     "start_time": "2024-01-23T20:14:55.911802Z"
    },
    "collapsed": false
   },
   "outputs": [],
   "source": [
    "# # Check what directory Julia is workout out of\n",
    "# jl.pwd()"
   ]
  },
  {
   "cell_type": "code",
   "execution_count": 4,
   "id": "4dbc51145ce0d9f9",
   "metadata": {
    "ExecuteTime": {
     "end_time": "2024-01-23T20:14:57.284306Z",
     "start_time": "2024-01-23T20:14:57.240845Z"
    },
    "collapsed": false
   },
   "outputs": [],
   "source": [
    "# # Activate the Julia environment of the current\n",
    "# # directory.\n",
    "# # If Julia's working directory is\n",
    "# # '/home/user1/Dropbox/code/vorpy',\n",
    "# # then the following will work.\n",
    "# jl.Pkg.activate('.')"
   ]
  },
  {
   "cell_type": "code",
   "execution_count": 5,
   "id": "72e71761c08c0c6b",
   "metadata": {
    "ExecuteTime": {
     "end_time": "2024-01-23T20:14:58.624501Z",
     "start_time": "2024-01-23T20:14:58.621571Z"
    },
    "collapsed": false
   },
   "outputs": [],
   "source": [
    "# # Show the packages in the current Julia\n",
    "# # environment. (This also helps to check\n",
    "# # that we are using the right environment.)\n",
    "# jl.Pkg.status()"
   ]
  },
  {
   "cell_type": "code",
   "execution_count": 6,
   "id": "871e90fdb79df6b2",
   "metadata": {
    "ExecuteTime": {
     "end_time": "2024-01-23T21:01:30.175798Z",
     "start_time": "2024-01-23T21:01:30.152496Z"
    },
    "collapsed": false
   },
   "outputs": [],
   "source": [
    "# # Run the Julia script to load the Biot-Savart\n",
    "# # function.\n",
    "\n",
    "# jl.include('julia_src/weighted_biot_savart_kernel_cpu.jl')  # CPU version\n",
    "# def bs_solve(fps, vpps, vcrds, vcirs):\n",
    "#     return np.transpose(jl.bs_solve_cpu(fps.T, vpps.T, vcrds, vcirs))\n",
    "\n",
    "# jl.include('julia_src/weighted_biot_savart_kernel_cuda.jl')  # GPU version\n",
    "# # bs_solve = jl.bs_solve_cuda"
   ]
  },
  {
   "cell_type": "code",
   "execution_count": 9,
   "id": "ba41a2e6c41f79e6",
   "metadata": {
    "ExecuteTime": {
     "end_time": "2024-01-23T21:01:30.994009Z",
     "start_time": "2024-01-23T21:01:30.965733Z"
    },
    "collapsed": false
   },
   "outputs": [
    {
     "name": "stdout",
     "output_type": "stream",
     "text": [
      "Iteration:  0\n",
      "Time (CPU):\t 1.9701840000000002\n",
      "Iteration:  1\n",
      "Time (CPU):\t 0.050877000000000006\n",
      "Iteration:  2\n",
      "Time (CPU):\t 0.037680000000000005\n",
      "Iteration:  3\n",
      "Time (CPU):\t 0.030214\n",
      "Iteration:  4\n",
      "Time (CPU):\t 0.031841\n",
      "Iteration:  5\n",
      "Time (CPU):\t 0.032543\n",
      "Iteration:  6\n",
      "Time (CPU):\t 0.031379000000000004\n",
      "Iteration:  7\n",
      "Time (CPU):\t 0.031168\n",
      "Iteration:  8\n",
      "Time (CPU):\t 0.031470000000000005\n",
      "Iteration:  9\n",
      "Time (CPU):\t 0.031531\n"
     ]
    }
   ],
   "source": [
    "###############################################\n",
    "# Test the Biot-Savart function with a simple\n",
    "# example.\n",
    "# Consider a very long straight vortex line\n",
    "# aligned with the x-axis. We will calculate\n",
    "# the velocity at the origin and along the\n",
    "# y-axis.\n",
    "#\n",
    "# ~2:30 min for 100 segments and 10e6 field\n",
    "# points\n",
    "# ~0:15 min for 100 segments and 1e6 field\n",
    "# points\n",
    "# Fewer segments but lots of field points\n",
    "# is faster.\n",
    "# Code scales like O(N) for field path\n",
    "# segments (because we loop through each\n",
    "# path segments).\n",
    "###############################################\n",
    "\n",
    "for i in range(10):\n",
    "    print('Iteration: ', i)\n",
    "    # Vortex line parameter\n",
    "    NUMSEGS = 100\n",
    "    # Field point parameter\n",
    "    NUMFPS = 100  # At 100 CUDA is faster than CPU\n",
    "\n",
    "    vpps = np.zeros((NUMSEGS+1, 3))\n",
    "    vpps[:, 0] = np.linspace(-1000, 1000, NUMSEGS+1)\n",
    "    vcrds = np.ones(NUMSEGS+1) * 2\n",
    "    vcirs = np.ones(NUMSEGS) * 1\n",
    "\n",
    "    fps = np.zeros((NUMFPS, 3))\n",
    "    fps[:, 1] = np.random.default_rng().uniform(0, 20, NUMFPS) #np.linspace(0, 20, NUMFPS)\n",
    "    fps[0, 1] = 1e-3\n",
    "    # print('Field points: ', fps[:, 1])\n",
    "\n",
    "    # vel_num = np.transpose(bs_solve(fps.T, vpps.T, vcrds, vcirs))\n",
    "    # print('Shape of returned velocity array: ', np.shape(vel_num))\n",
    "\n",
    "    t0 = time.time_ns()\n",
    "    vel_num = vp.bs_solve(fps, vpps, vcrds, vcirs, device='cpu')\n",
    "    # vel_num = bs_solve_cpu(fps, vpps, vcrds, vcirs)\n",
    "    print('Time (CPU):\\t', (time.time_ns() - t0) * 1e-9)\n",
    "\n",
    "    # t0 = time.time_ns()\n",
    "    # vel_num = vp.bs_solve(fps, vpps, vcrds, vcirs, device='cuda')\n",
    "    # # vel_num = bs_solve_cuda(fps, vpps, vcrds, vcirs)\n",
    "    # print('Time (CUDA):\\t', (time.time_ns() - t0) * 1e-9)\n",
    "\n",
    "    # # Plot the magnitude of the velocity\n",
    "    # # along the y-axis\n",
    "    # stride = slice(1, -1, 1)\n",
    "    # plt.plot(fps[stride, 1], vel_num[stride, -1], 'x')\n",
    "    # plt.xlabel('y')\n",
    "    # plt.ylabel('vz')\n",
    "    # plt.title('Velocity of a straight vortex line')\n",
    "    # plt.show()\n"
   ]
  },
  {
   "cell_type": "code",
   "execution_count": 6,
   "id": "bb83e557",
   "metadata": {},
   "outputs": [],
   "source": [
    "# Vortex line parameter\n",
    "NUMSEGS = 100\n",
    "# Field point parameter\n",
    "NUMFPS = 1_000\n",
    "\n",
    "vpps = np.zeros((NUMSEGS+1, 3))\n",
    "vpps[:, 0] = np.linspace(-1000, 1000, NUMSEGS+1)\n",
    "vcrds = np.ones(NUMSEGS+1) * 3\n",
    "vcirs = np.ones(NUMSEGS) * 1\n",
    "\n",
    "fps = np.zeros((NUMFPS, 3))\n",
    "fps[:, 1] = np.linspace(0, 20, NUMFPS)\n",
    "fps[0, 1] = 1e-3"
   ]
  },
  {
   "cell_type": "code",
   "execution_count": 7,
   "id": "1a982d56",
   "metadata": {},
   "outputs": [
    {
     "name": "stdout",
     "output_type": "stream",
     "text": [
      "Shape of analytical velocity array:  (1000,)\n"
     ]
    }
   ],
   "source": [
    "vel_ana =  vcirs[0] * (1 - np.exp(-0.5 * fps[:, 1]**2 / vcrds[0]**2)) / (2 * np.pi * fps[:, 1]) \n",
    "print('Shape of analytical velocity array: ', np.shape(vel_ana))"
   ]
  },
  {
   "cell_type": "code",
   "execution_count": 12,
   "id": "16bfda85",
   "metadata": {},
   "outputs": [
    {
     "name": "stdout",
     "output_type": "stream",
     "text": [
      "Shape of returned velocity array:  (1000, 3)\n"
     ]
    }
   ],
   "source": [
    "# def bs_solve(fps, vpps, vcrds, vcirs, device='cpu'):\n",
    "#     if device == 'cpu':\n",
    "#         return np.transpose(jl.bs_solve_cpu(fps.T, vpps.T, vcrds, vcirs))\n",
    "#     elif device == 'cuda':\n",
    "#         return np.transpose(jl.bs_solve_cuda(fps.T, vpps.T, vcrds, vcirs))\n",
    "#     else:\n",
    "#         raise ValueError('Invalid device: {}'.format(device))\n",
    "\n",
    "# vel_num = bs_solve(fps, vpps, vcrds, vcirs, device='cpu')\n",
    "\n",
    "# vel_num = np.transpose(bs_solve(fps.T, vpps.T, vcrds, vcirs))\n",
    "vel_num = vp.bs_solve(fps, vpps, vcrds, vcirs, device='cpu')\n",
    "# vel_num = vpcu.bs_solve(fps, vpps, vcrds, vcirs)\n",
    "\n",
    "print('Shape of returned velocity array: ', np.shape(vel_num))"
   ]
  },
  {
   "cell_type": "code",
   "execution_count": 13,
   "id": "7d9fb2b1",
   "metadata": {},
   "outputs": [
    {
     "name": "stdout",
     "output_type": "stream",
     "text": [
      "Mean squared error:  1.6081703269309354e-09\n"
     ]
    },
    {
     "data": {
      "image/png": "[encoded data removed]",
      "text/plain": [
       "<Figure size 640x480 with 1 Axes>"
      ]
     },
     "metadata": {},
     "output_type": "display_data"
    }
   ],
   "source": [
    "# Mean squared error\n",
    "mse = np.mean((vel_ana - vel_num[:, -1])**2)\n",
    "print('Mean squared error: ', mse)\n",
    "\n",
    "# Plot the magnitude of the velocity\n",
    "# along the y-axis\n",
    "\n",
    "stride = slice(1, -1, 10)\n",
    "plt.plot(fps[stride, 1], vel_ana[stride], 'x-')\n",
    "plt.plot(fps[stride, 1], vel_num[stride, -1])\n",
    "plt.xlabel('y')\n",
    "plt.ylabel('vz')\n",
    "plt.title('Velocity of a straight vortex line')\n",
    "plt.legend(['Analytical', 'Numerical'])\n",
    "plt.show()"
   ]
  },
  {
   "cell_type": "code",
   "execution_count": null,
   "id": "32f128a4",
   "metadata": {},
   "outputs": [],
   "source": []
  },
  {
   "cell_type": "code",
   "execution_count": null,
   "id": "d7d3d5e0",
   "metadata": {},
   "outputs": [],
   "source": []
  }
 ],
 "metadata": {
  "kernelspec": {
   "display_name": "Python 3",
   "language": "python",
   "name": "python3"
  },
  "language_info": {
   "codemirror_mode": {
    "name": "ipython",
    "version": 3
   },
   "file_extension": ".py",
   "mimetype": "text/x-python",
   "name": "python",
   "nbconvert_exporter": "python",
   "pygments_lexer": "ipython3",
   "version": "3.11.7"
  }
 },
 "nbformat": 4,
 "nbformat_minor": 5
}
