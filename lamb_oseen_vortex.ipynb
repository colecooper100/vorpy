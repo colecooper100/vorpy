{
 "cells": [
  {
   "cell_type": "code",
   "execution_count": 2,
   "id": "initial_id",
   "metadata": {
    "ExecuteTime": {
     "end_time": "2024-01-23T20:14:54.634382Z",
     "start_time": "2024-01-23T20:14:52.891311Z"
    },
    "collapsed": true
   },
   "outputs": [],
   "source": [
    "import numpy as np\n",
    "from matplotlib import pyplot as plt\n",
    "from juliacall import Main as jl"
   ]
  },
  {
   "cell_type": "code",
   "execution_count": 3,
   "id": "3cebe5207fa7df30",
   "metadata": {
    "ExecuteTime": {
     "end_time": "2024-01-23T20:14:55.958107Z",
     "start_time": "2024-01-23T20:14:55.911802Z"
    },
    "collapsed": false
   },
   "outputs": [
    {
     "data": {
      "text/plain": [
       "'/Users/morty/Library/CloudStorage/Dropbox/code/vorpy'"
      ]
     },
     "execution_count": 3,
     "metadata": {},
     "output_type": "execute_result"
    }
   ],
   "source": [
    "# Check what directory Julia is workout out of\n",
    "jl.pwd()"
   ]
  },
  {
   "cell_type": "code",
   "execution_count": 4,
   "id": "4dbc51145ce0d9f9",
   "metadata": {
    "ExecuteTime": {
     "end_time": "2024-01-23T20:14:57.284306Z",
     "start_time": "2024-01-23T20:14:57.240845Z"
    },
    "collapsed": false
   },
   "outputs": [
    {
     "name": "stderr",
     "output_type": "stream",
     "text": [
      "  Activating project at `~/Library/CloudStorage/Dropbox/code/vorpy`\n"
     ]
    }
   ],
   "source": [
    "# Activate the Julia environment of the current\n",
    "# directory.\n",
    "# If Julia's working directory is\n",
    "# '/home/user1/Dropbox/code/vorpy',\n",
    "# then the following will work.\n",
    "jl.Pkg.activate('.')"
   ]
  },
  {
   "cell_type": "code",
   "execution_count": 5,
   "id": "72e71761c08c0c6b",
   "metadata": {
    "ExecuteTime": {
     "end_time": "2024-01-23T20:14:58.624501Z",
     "start_time": "2024-01-23T20:14:58.621571Z"
    },
    "collapsed": false
   },
   "outputs": [
    {
     "name": "stdout",
     "output_type": "stream",
     "text": [
      "Status `~/Library/CloudStorage/Dropbox/code/vorpy/Project.toml`\n",
      "  [6e4b80f9] BenchmarkTools v1.4.0\n",
      "  [052768ef] CUDA v5.2.0\n",
      "⌃ [de52edbc] Integrals v4.1.0\n",
      "⌃ [91a5bcdd] Plots v1.39.0\n",
      "⌃ [90137ffa] StaticArrays v1.9.2\n",
      "Info Packages marked with ⌃ have new versions available and may be upgradable.\n"
     ]
    }
   ],
   "source": [
    "# Show the packages in the current Julia\n",
    "# environment. (This also helps to check\n",
    "# that we are using the right environment.)\n",
    "jl.Pkg.status()"
   ]
  },
  {
   "cell_type": "code",
   "execution_count": 6,
   "id": "871e90fdb79df6b2",
   "metadata": {
    "ExecuteTime": {
     "end_time": "2024-01-23T21:01:30.175798Z",
     "start_time": "2024-01-23T21:01:30.152496Z"
    },
    "collapsed": false
   },
   "outputs": [
    {
     "ename": "JuliaError",
     "evalue": "SystemError: opening file \"/Users/morty/Library/CloudStorage/Dropbox/code/vorpy/julia_src/biot_savart_cuda.jl\": No such file or directory\nStacktrace:\n  [1] systemerror(p::String, errno::Int32; extrainfo::Nothing)\n    @ Base ./error.jl:176\n  [2] systemerror\n    @ ./error.jl:175 [inlined]\n  [3] open(fname::String; lock::Bool, read::Nothing, write::Nothing, create::Nothing, truncate::Nothing, append::Nothing)\n    @ Base ./iostream.jl:293\n  [4] open\n    @ ./iostream.jl:275 [inlined]\n  [5] open(f::Base.var\"#433#434\"{String}, args::String; kwargs::@Kwargs{})\n    @ Base ./io.jl:394\n  [6] open\n    @ ./io.jl:393 [inlined]\n  [7] read\n    @ ./io.jl:486 [inlined]\n  [8] _include(mapexpr::Function, mod::Module, _path::String)\n    @ Base ./loading.jl:2132\n  [9] include(fname::String)\n    @ Base.MainInclude ./client.jl:489\n [10] pyjlany_call(self::typeof(include), args_::Py, kwargs_::Py)\n    @ PythonCall ~/.julia/packages/PythonCall/wXfah/src/jlwrap/any.jl:37\n [11] _pyjl_callmethod(f::Any, self_::Ptr{PythonCall.C.PyObject}, args_::Ptr{PythonCall.C.PyObject}, nargs::Int64)\n    @ PythonCall ~/.julia/packages/PythonCall/wXfah/src/jlwrap/base.jl:69\n [12] _pyjl_callmethod(o::Ptr{PythonCall.C.PyObject}, args::Ptr{PythonCall.C.PyObject})\n    @ PythonCall.C ~/.julia/packages/PythonCall/wXfah/src/cpython/jlwrap.jl:47",
     "output_type": "error",
     "traceback": [
      "\u001b[0;31m---------------------------------------------------------------------------\u001b[0m",
      "\u001b[0;31mJuliaError\u001b[0m                                Traceback (most recent call last)",
      "Cell \u001b[0;32mIn[6], line 4\u001b[0m\n\u001b[1;32m      1\u001b[0m \u001b[38;5;66;03m# Run the Julia script to load the Biot-Savart\u001b[39;00m\n\u001b[1;32m      2\u001b[0m \u001b[38;5;66;03m# function.\u001b[39;00m\n\u001b[1;32m      3\u001b[0m \u001b[38;5;66;03m# jl.include('julia_src/biot_savart.jl')  # CPU version\u001b[39;00m\n\u001b[0;32m----> 4\u001b[0m \u001b[43mjl\u001b[49m\u001b[38;5;241;43m.\u001b[39;49m\u001b[43minclude\u001b[49m\u001b[43m(\u001b[49m\u001b[38;5;124;43m'\u001b[39;49m\u001b[38;5;124;43mjulia_src/biot_savart_cuda.jl\u001b[39;49m\u001b[38;5;124;43m'\u001b[39;49m\u001b[43m)\u001b[49m  \u001b[38;5;66;03m# GPU version\u001b[39;00m\n",
      "File \u001b[0;32m~/.julia/packages/PythonCall/wXfah/src/jlwrap/any.jl:208\u001b[0m, in \u001b[0;36m__call__\u001b[0;34m(self, *args, **kwargs)\u001b[0m\n\u001b[1;32m    206\u001b[0m     return ValueBase.__dir__(self) + self._jl_callmethod($(pyjl_methodnum(pyjlany_dir)))\n\u001b[1;32m    207\u001b[0m def __call__(self, *args, **kwargs):\n\u001b[0;32m--> 208\u001b[0m     return self._jl_callmethod($(pyjl_methodnum(pyjlany_call)), args, kwargs)\n\u001b[1;32m    209\u001b[0m def __bool__(self):\n\u001b[1;32m    210\u001b[0m     return True\n",
      "\u001b[0;31mJuliaError\u001b[0m: SystemError: opening file \"/Users/morty/Library/CloudStorage/Dropbox/code/vorpy/julia_src/biot_savart_cuda.jl\": No such file or directory\nStacktrace:\n  [1] systemerror(p::String, errno::Int32; extrainfo::Nothing)\n    @ Base ./error.jl:176\n  [2] systemerror\n    @ ./error.jl:175 [inlined]\n  [3] open(fname::String; lock::Bool, read::Nothing, write::Nothing, create::Nothing, truncate::Nothing, append::Nothing)\n    @ Base ./iostream.jl:293\n  [4] open\n    @ ./iostream.jl:275 [inlined]\n  [5] open(f::Base.var\"#433#434\"{String}, args::String; kwargs::@Kwargs{})\n    @ Base ./io.jl:394\n  [6] open\n    @ ./io.jl:393 [inlined]\n  [7] read\n    @ ./io.jl:486 [inlined]\n  [8] _include(mapexpr::Function, mod::Module, _path::String)\n    @ Base ./loading.jl:2132\n  [9] include(fname::String)\n    @ Base.MainInclude ./client.jl:489\n [10] pyjlany_call(self::typeof(include), args_::Py, kwargs_::Py)\n    @ PythonCall ~/.julia/packages/PythonCall/wXfah/src/jlwrap/any.jl:37\n [11] _pyjl_callmethod(f::Any, self_::Ptr{PythonCall.C.PyObject}, args_::Ptr{PythonCall.C.PyObject}, nargs::Int64)\n    @ PythonCall ~/.julia/packages/PythonCall/wXfah/src/jlwrap/base.jl:69\n [12] _pyjl_callmethod(o::Ptr{PythonCall.C.PyObject}, args::Ptr{PythonCall.C.PyObject})\n    @ PythonCall.C ~/.julia/packages/PythonCall/wXfah/src/cpython/jlwrap.jl:47"
     ]
    }
   ],
   "source": [
    "# Run the Julia script to load the Biot-Savart\n",
    "# function.\n",
    "# jl.include('julia_src/biot_savart.jl')  # CPU version\n",
    "jl.include('julia_src/biot_savart_cuda.jl')  # GPU version"
   ]
  },
  {
   "cell_type": "code",
   "execution_count": 11,
   "id": "ba41a2e6c41f79e6",
   "metadata": {
    "ExecuteTime": {
     "end_time": "2024-01-23T21:01:30.994009Z",
     "start_time": "2024-01-23T21:01:30.965733Z"
    },
    "collapsed": false
   },
   "outputs": [
    {
     "name": "stdout",
     "output_type": "stream",
     "text": [
      "Iteration:  0\n",
      "Shape of returned velocity array:  (1000000, 3)\n",
      "Iteration:  1\n",
      "Shape of returned velocity array:  (1000000, 3)\n",
      "Iteration:  2\n",
      "Shape of returned velocity array:  (1000000, 3)\n",
      "Iteration:  3\n",
      "Shape of returned velocity array:  (1000000, 3)\n",
      "Iteration:  4\n",
      "Shape of returned velocity array:  (1000000, 3)\n",
      "Iteration:  5\n",
      "Shape of returned velocity array:  (1000000, 3)\n",
      "Iteration:  6\n",
      "Shape of returned velocity array:  (1000000, 3)\n",
      "Iteration:  7\n",
      "Shape of returned velocity array:  (1000000, 3)\n",
      "Iteration:  8\n",
      "Shape of returned velocity array:  (1000000, 3)\n",
      "Iteration:  9\n",
      "Shape of returned velocity array:  (1000000, 3)\n"
     ]
    }
   ],
   "source": [
    "###############################################\n",
    "# Test the Biot-Savart function with a simple\n",
    "# example.\n",
    "# Consider a very long straight vortex line\n",
    "# aligned with the x-axis. We will calculate\n",
    "# the velocity at the origin and along the\n",
    "# y-axis.\n",
    "#\n",
    "# ~2:30 min for 100 segments and 10e6 field\n",
    "# points\n",
    "# ~0:15 min for 100 segments and 1e6 field\n",
    "# Fewer segments but lots of field points\n",
    "# is faster.\n",
    "# Code scales like O(N) for field path\n",
    "# segments (because we loop through each\n",
    "# path segments).\n",
    "###############################################\n",
    "\n",
    "for i in range(10):\n",
    "    print('Iteration: ', i)\n",
    "    # Vortex line parameter\n",
    "    NUMSEGS = 100\n",
    "    # Field point parameter\n",
    "    NUMFPS = 1_000_000\n",
    "\n",
    "    vpps = np.zeros((NUMSEGS+1, 3))\n",
    "    vpps[:, 0] = np.linspace(-1000, 1000, NUMSEGS+1)\n",
    "    vcrds = np.ones(NUMSEGS+1) * 2\n",
    "    vcirs = np.ones(NUMSEGS) * 1\n",
    "\n",
    "    fps = np.zeros((NUMFPS, 3))\n",
    "    fps[:, 1] = np.linspace(0, 20, NUMFPS)\n",
    "    fps[0, 1] = 1e-3\n",
    "\n",
    "    vel_num = np.transpose(jl.bs_solve(fps.T, vpps.T, vcrds, vcirs))\n",
    "    print('Shape of returned velocity array: ', np.shape(vel_num))\n"
   ]
  },
  {
   "cell_type": "code",
   "execution_count": 13,
   "id": "7d9fb2b1",
   "metadata": {},
   "outputs": [
    {
     "data": {
      "image/png": "[encoded data removed]",
      "text/plain": [
       "<Figure size 640x480 with 1 Axes>"
      ]
     },
     "metadata": {},
     "output_type": "display_data"
    }
   ],
   "source": [
    "# Plot the magnitude of the velocity\n",
    "# along the y-axis\n",
    "\n",
    "stride = slice(1, -1, 10_000)\n",
    "plt.plot(fps[stride, 1], vel_num[stride, -1], 'x-')\n",
    "plt.xlabel('y')\n",
    "plt.ylabel('vz')\n",
    "plt.title('Velocity of a straight vortex line')\n",
    "plt.show()"
   ]
  },
  {
   "cell_type": "code",
   "execution_count": null,
   "id": "3d14d21b",
   "metadata": {},
   "outputs": [],
   "source": []
  }
 ],
 "metadata": {
  "kernelspec": {
   "display_name": "Python 3",
   "language": "python",
   "name": "python3"
  },
  "language_info": {
   "codemirror_mode": {
    "name": "ipython",
    "version": 3
   },
   "file_extension": ".py",
   "mimetype": "text/x-python",
   "name": "python",
   "nbconvert_exporter": "python",
   "pygments_lexer": "ipython3",
   "version": "3.12.2"
  }
 },
 "nbformat": 4,
 "nbformat_minor": 5
}
