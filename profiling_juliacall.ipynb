{
 "cells": [
  {
   "cell_type": "code",
   "execution_count": 1,
   "id": "initial_id",
   "metadata": {
    "collapsed": true,
    "ExecuteTime": {
     "end_time": "2024-01-23T20:14:54.634382Z",
     "start_time": "2024-01-23T20:14:52.891311Z"
    }
   },
   "outputs": [],
   "source": [
    "from juliacall import Main as jl\n",
    "import numpy as np"
   ]
  },
  {
   "cell_type": "code",
   "outputs": [
    {
     "data": {
      "text/plain": "'/Users/morty/Library/CloudStorage/Dropbox/code/vorpy'"
     },
     "execution_count": 2,
     "metadata": {},
     "output_type": "execute_result"
    }
   ],
   "source": [
    "jl.pwd()"
   ],
   "metadata": {
    "collapsed": false,
    "ExecuteTime": {
     "end_time": "2024-01-23T20:14:55.958107Z",
     "start_time": "2024-01-23T20:14:55.911802Z"
    }
   },
   "id": "3cebe5207fa7df30",
   "execution_count": 2
  },
  {
   "cell_type": "code",
   "outputs": [
    {
     "name": "stderr",
     "output_type": "stream",
     "text": [
      "  Activating project at `~/Library/CloudStorage/Dropbox/code/vorpy`\n"
     ]
    }
   ],
   "source": [
    "jl.Pkg.activate('.')"
   ],
   "metadata": {
    "collapsed": false,
    "ExecuteTime": {
     "end_time": "2024-01-23T20:14:57.284306Z",
     "start_time": "2024-01-23T20:14:57.240845Z"
    }
   },
   "id": "4dbc51145ce0d9f9",
   "execution_count": 3
  },
  {
   "cell_type": "code",
   "outputs": [
    {
     "name": "stdout",
     "output_type": "stream",
     "text": [
      "Status `~/Library/CloudStorage/Dropbox/code/vorpy/Project.toml`\n",
      "  [de52edbc] Integrals v4.1.0\n",
      "  [91a5bcdd] Plots v1.39.0\n"
     ]
    }
   ],
   "source": [
    "jl.Pkg.status()"
   ],
   "metadata": {
    "collapsed": false,
    "ExecuteTime": {
     "end_time": "2024-01-23T20:14:58.624501Z",
     "start_time": "2024-01-23T20:14:58.621571Z"
    }
   },
   "id": "72e71761c08c0c6b",
   "execution_count": 4
  },
  {
   "cell_type": "code",
   "outputs": [
    {
     "name": "stdout",
     "output_type": "stream",
     "text": [
      "Error: 4.440892098500626e-16\n"
     ]
    },
    {
     "data": {
      "text/plain": "weighted_biot_savart_kernel (generic function with 1 method)"
     },
     "execution_count": 102,
     "metadata": {},
     "output_type": "execute_result"
    }
   ],
   "source": [
    "jl.include('julia_src/biot_savart.jl')"
   ],
   "metadata": {
    "collapsed": false,
    "ExecuteTime": {
     "end_time": "2024-01-23T21:01:30.175798Z",
     "start_time": "2024-01-23T21:01:30.152496Z"
    }
   },
   "id": "871e90fdb79df6b2",
   "execution_count": 102
  },
  {
   "cell_type": "code",
   "outputs": [
    {
     "name": "stdout",
     "output_type": "stream",
     "text": [
      "vp =\n",
      " [[-1000.     0.     0.]\n",
      " [ 1000.     0.     0.]]\n",
      "vc =\n",
      " [0.1 0.1]\n",
      "y =\n",
      " [1.0e-03 2.0e+00 4.0e+00 6.0e+00 8.0e+00 1.0e+01 1.2e+01 1.4e+01 1.6e+01\n",
      " 1.8e+01]\n",
      "fp.shape = (10, 3)\n"
     ]
    }
   ],
   "source": [
    "# Set up vortex and field points\n",
    "vp = np.array([[-1000, 0. , 0], [1000, 0 , 0]])\n",
    "vc = 0.1 * np.ones(2)\n",
    "y = np.arange(0, 20, 2, dtype=np.float64)  # np.linspace(0, 20, 10)\n",
    "y[0] = 1e-3\n",
    "fp = np.zeros((10, 3))\n",
    "fp[:, 1] = y\n",
    "print('vp =\\n', vp)\n",
    "print('vc =\\n', vc)\n",
    "print('y =\\n', y)\n",
    "print('fp.shape =', fp.shape)"
   ],
   "metadata": {
    "collapsed": false,
    "ExecuteTime": {
     "end_time": "2024-01-23T21:01:30.994009Z",
     "start_time": "2024-01-23T21:01:30.965733Z"
    }
   },
   "id": "ba41a2e6c41f79e6",
   "execution_count": 103
  },
  {
   "cell_type": "code",
   "outputs": [
    {
     "ename": "TypeError",
     "evalue": "'float' object is not iterable",
     "output_type": "error",
     "traceback": [
      "\u001B[0;31m---------------------------------------------------------------------------\u001B[0m",
      "\u001B[0;31mTypeError\u001B[0m                                 Traceback (most recent call last)",
      "Cell \u001B[0;32mIn[104], line 3\u001B[0m\n\u001B[1;32m      1\u001B[0m vel \u001B[38;5;241m=\u001B[39m np\u001B[38;5;241m.\u001B[39mzeros(fp\u001B[38;5;241m.\u001B[39mshape[\u001B[38;5;241m0\u001B[39m])\n\u001B[1;32m      2\u001B[0m \u001B[38;5;28;01mfor\u001B[39;00m i \u001B[38;5;129;01min\u001B[39;00m \u001B[38;5;28mrange\u001B[39m(fp\u001B[38;5;241m.\u001B[39mshape[\u001B[38;5;241m0\u001B[39m]):\n\u001B[0;32m----> 3\u001B[0m     vel[i] \u001B[38;5;241m=\u001B[39m \u001B[43mjl\u001B[49m\u001B[38;5;241;43m.\u001B[39;49m\u001B[43mweighted_biot_savart_kernel\u001B[49m\u001B[43m(\u001B[49m\u001B[43mfp\u001B[49m\u001B[43m[\u001B[49m\u001B[43mi\u001B[49m\u001B[43m]\u001B[49m\u001B[43m,\u001B[49m\u001B[43m \u001B[49m\u001B[43mvp\u001B[49m\u001B[38;5;241;43m.\u001B[39;49m\u001B[43mT\u001B[49m\u001B[43m,\u001B[49m\u001B[43m \u001B[49m\u001B[43mvc\u001B[49m\u001B[43m,\u001B[49m\u001B[43m \u001B[49m\u001B[38;5;28;43;01mlambda\u001B[39;49;00m\u001B[43m \u001B[49m\u001B[43mx\u001B[49m\u001B[43m:\u001B[49m\u001B[43m \u001B[49m\u001B[38;5;241;43m1.0\u001B[39;49m\u001B[43m,\u001B[49m\u001B[43m \u001B[49m\u001B[43mjl\u001B[49m\u001B[38;5;241;43m.\u001B[39;49m\u001B[43muniform_trapezoidal_rule\u001B[49m\u001B[43m)\u001B[49m[\u001B[38;5;241m1\u001B[39m]\n",
      "File \u001B[0;32m~/.julia/packages/PythonCall/wXfah/src/jlwrap/any.jl:208\u001B[0m, in \u001B[0;36m__call__\u001B[0;34m(self, *args, **kwargs)\u001B[0m\n\u001B[1;32m    206\u001B[0m     return ValueBase.__dir__(self) + self._jl_callmethod($(pyjl_methodnum(pyjlany_dir)))\n\u001B[1;32m    207\u001B[0m def __call__(self, *args, **kwargs):\n\u001B[0;32m--> 208\u001B[0m     return self._jl_callmethod($(pyjl_methodnum(pyjlany_call)), args, kwargs)\n\u001B[1;32m    209\u001B[0m def __bool__(self):\n\u001B[1;32m    210\u001B[0m     return True\n",
      "\u001B[0;31mTypeError\u001B[0m: 'float' object is not iterable"
     ]
    }
   ],
   "source": [
    "vel = np.zeros(fp.shape[0])\n",
    "for i in range(fp.shape[0]):\n",
    "    vel[i] = jl.weighted_biot_savart_kernel(fp[i], vp.T, vc, lambda x: 1.0, jl.uniform_trapezoidal_rule)[1]\n",
    "\n"
   ],
   "metadata": {
    "collapsed": false,
    "ExecuteTime": {
     "end_time": "2024-01-23T21:01:32.735463Z",
     "start_time": "2024-01-23T21:01:32.578589Z"
    }
   },
   "id": "d769c5098e9e003c",
   "execution_count": 104
  },
  {
   "cell_type": "code",
   "outputs": [
    {
     "name": "stdout",
     "output_type": "stream",
     "text": [
      "vel =\n",
      " [2000. 2000. 2000. 2000. 2000. 2000. 2000. 2000. 2000. 2000.]\n"
     ]
    }
   ],
   "source": [
    "print('vel =\\n', vel)"
   ],
   "metadata": {
    "collapsed": false,
    "ExecuteTime": {
     "end_time": "2024-01-23T20:44:26.940374Z",
     "start_time": "2024-01-23T20:44:26.851574Z"
    }
   },
   "id": "1a96303e21120322",
   "execution_count": 92
  },
  {
   "cell_type": "code",
   "outputs": [],
   "source": [],
   "metadata": {
    "collapsed": false
   },
   "id": "8d01cb0f19258704"
  }
 ],
 "metadata": {
  "kernelspec": {
   "display_name": "Python 3",
   "language": "python",
   "name": "python3"
  },
  "language_info": {
   "codemirror_mode": {
    "name": "ipython",
    "version": 2
   },
   "file_extension": ".py",
   "mimetype": "text/x-python",
   "name": "python",
   "nbconvert_exporter": "python",
   "pygments_lexer": "ipython2",
   "version": "2.7.6"
  }
 },
 "nbformat": 4,
 "nbformat_minor": 5
}
