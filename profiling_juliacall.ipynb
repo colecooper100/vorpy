{
 "cells": [
  {
   "cell_type": "code",
   "execution_count": 2,
   "id": "initial_id",
   "metadata": {
    "ExecuteTime": {
     "end_time": "2024-01-23T20:14:54.634382Z",
     "start_time": "2024-01-23T20:14:52.891311Z"
    },
    "collapsed": true
   },
   "outputs": [
    {
     "name": "stdout",
     "output_type": "stream",
     "text": [
      "[juliapkg] Locating Julia ^1.6.1\n",
      "[juliapkg] Using Julia 1.10.0 at /home/user1/.julia/juliaup/julia-1.10.0+0.x64.linux.gnu/bin/julia\n",
      "[juliapkg] Using Julia project at /home/user1/.miniconda3/envs/202401tfjax/julia_env\n",
      "[juliapkg] Installing packages:\n",
      "           julia> import Pkg\n",
      "           julia> Pkg.add([Pkg.PackageSpec(name=\"PythonCall\", uuid=\"6099a3de-0909-46bc-b1f4-468b9a2dfc0d\")])\n",
      "           julia> Pkg.resolve()\n",
      "           julia> Pkg.precompile()\n"
     ]
    },
    {
     "name": "stderr",
     "output_type": "stream",
     "text": [
      "    Updating registry at `~/.julia/registries/General.toml`\n",
      "   Resolving package versions...\n",
      "   Installed MicroMamba ───── v0.1.14\n",
      "   Installed JSON3 ────────── v1.14.0\n",
      "   Installed micromamba_jll ─ v1.4.9+0\n",
      "   Installed UnsafePointers ─ v1.0.0\n",
      "   Installed CondaPkg ─────── v0.2.22\n",
      "   Installed Pidfile ──────── v1.3.0\n",
      "   Installed StructTypes ──── v1.10.0\n",
      "   Installed PythonCall ───── v0.9.15\n",
      "    Updating `~/.miniconda3/envs/202401tfjax/julia_env/Project.toml`\n",
      "  [6099a3de] + PythonCall v0.9.15\n",
      "    Updating `~/.miniconda3/envs/202401tfjax/julia_env/Manifest.toml`\n",
      "  [992eb4ea] + CondaPkg v0.2.22\n",
      "  [9a962f9c] + DataAPI v1.16.0\n",
      "  [e2d170a0] + DataValueInterfaces v1.0.0\n",
      "  [82899510] + IteratorInterfaceExtensions v1.0.0\n",
      "  [692b3bcd] + JLLWrappers v1.5.0\n",
      "  [0f8b85d8] + JSON3 v1.14.0\n",
      "  [1914dd2f] + MacroTools v0.5.13\n",
      "  [0b3b1443] + MicroMamba v0.1.14\n",
      "  [bac558e1] + OrderedCollections v1.6.3\n",
      "  [69de0a69] + Parsers v2.8.1\n",
      "  [fa939f87] + Pidfile v1.3.0\n",
      "  [aea7be01] + PrecompileTools v1.2.0\n",
      "  [21216c6a] + Preferences v1.4.1\n",
      "  [6099a3de] + PythonCall v0.9.15\n",
      "  [ae029012] + Requires v1.3.0\n",
      "  [6c6a2e73] + Scratch v1.2.1\n",
      "  [856f2bd8] + StructTypes v1.10.0\n",
      "  [3783bdb8] + TableTraits v1.0.1\n",
      "  [bd369af6] + Tables v1.11.1\n",
      "  [e17b2a0c] + UnsafePointers v1.0.0\n",
      "  [f8abcde7] + micromamba_jll v1.4.9+0\n",
      "  [0dad84c5] + ArgTools v1.1.1\n",
      "  [56f22d72] + Artifacts\n",
      "  [2a0f44e3] + Base64\n",
      "  [ade2ca70] + Dates\n",
      "  [f43a241f] + Downloads v1.6.0\n",
      "  [7b1f6079] + FileWatching\n",
      "  [b77e0a4c] + InteractiveUtils\n",
      "  [4af54fe1] + LazyArtifacts\n",
      "  [b27032c2] + LibCURL v0.6.4\n",
      "  [76f85450] + LibGit2\n",
      "  [8f399da3] + Libdl\n",
      "  [37e2e46d] + LinearAlgebra\n",
      "  [56ddb016] + Logging\n",
      "  [d6f4376e] + Markdown\n",
      "  [a63ad114] + Mmap\n",
      "  [ca575930] + NetworkOptions v1.2.0\n",
      "  [44cfe95a] + Pkg v1.10.0\n",
      "  [de0858da] + Printf\n",
      "  [3fa0cd96] + REPL\n",
      "  [9a3f8284] + Random\n",
      "  [ea8e919c] + SHA v0.7.0\n",
      "  [9e88b42a] + Serialization\n",
      "  [6462fe0b] + Sockets\n",
      "  [fa267f1f] + TOML v1.0.3\n",
      "  [a4e569a6] + Tar v1.10.0\n",
      "  [8dfed614] + Test\n",
      "  [cf7118a7] + UUIDs\n",
      "  [4ec0a83e] + Unicode\n",
      "  [e66e0078] + CompilerSupportLibraries_jll v1.0.5+1\n",
      "  [deac9b47] + LibCURL_jll v8.4.0+0\n",
      "  [e37daf67] + LibGit2_jll v1.6.4+0\n",
      "  [29816b5a] + LibSSH2_jll v1.11.0+1\n",
      "  [c8ffd9c3] + MbedTLS_jll v2.28.2+1\n",
      "  [14a3606d] + MozillaCACerts_jll v2023.1.10\n",
      "  [4536629a] + OpenBLAS_jll v0.3.23+2\n",
      "  [83775a58] + Zlib_jll v1.2.13+1\n",
      "  [8e850b90] + libblastrampoline_jll v5.8.0+1\n",
      "  [8e850ede] + nghttp2_jll v1.52.0+1\n",
      "  [3f19e933] + p7zip_jll v17.4.0+2\n",
      "Precompiling project...\n",
      "\u001b[32m  ✓ \u001b[39m\u001b[90mUnsafePointers\u001b[39m\n",
      "\u001b[32m  ✓ \u001b[39m\u001b[90mPidfile\u001b[39m\n",
      "\u001b[32m  ✓ \u001b[39m\u001b[90mStructTypes\u001b[39m\n",
      "micromamba_jll\u001b[33m Waiting for background task / IO / timer.\u001b[39m\n",
      "[pid 201160] waiting for IO to finish:\n",
      " Handle type        uv_handle_t->data\n",
      " timer              0x1b66bd0->0x7fb38868da80\n",
      "This means that a package has started a background task or event source that has not finished running. For precompilation to complete successfully, the event source needs to be closed explicitly. See the developer documentation on fixing precompilation hangs for more help.\n",
      "\u001b[32m  ✓ \u001b[39m\u001b[90mJSON3\u001b[39m\n",
      "\n",
      "[pid 201160] waiting for IO to finish:\n",
      " Handle type        uv_handle_t->data\n",
      " timer              0x1b66bd0->0x7fb38868da80\n",
      "This means that a package has started a background task or event source that has not finished running. For precompilation to complete successfully, the event source needs to be closed explicitly. See the developer documentation on fixing precompilation hangs for more help.\n",
      "\u001b[32m  ✓ \u001b[39m\u001b[90mmicromamba_jll\u001b[39m\n",
      "\u001b[32m  ✓ \u001b[39m\u001b[90mMicroMamba\u001b[39m\n",
      "\u001b[32m  ✓ \u001b[39m\u001b[90mCondaPkg\u001b[39m\n",
      "\u001b[32m  ✓ \u001b[39mPythonCall\n",
      "  8 dependencies successfully precompiled in 45 seconds. 17 already precompiled.\n",
      "  \u001b[33m1\u001b[39m dependency had output during precompilation:\u001b[33m\n",
      "┌ \u001b[39mmicromamba_jll\u001b[33m\n",
      "│  \u001b[39mDownloading artifact: micromamba\u001b[33m\n",
      "│  \u001b[39m\u001b[33m\n",
      "│  \u001b[39m[pid 201160] waiting for IO to finish:\u001b[33m\n",
      "│  \u001b[39m Handle type        uv_handle_t->data\u001b[33m\n",
      "│  \u001b[39m timer              0x1b66bd0->0x7fb38868da80\u001b[33m\n",
      "│  \u001b[39mThis means that a package has started a background task or event source that has not finished running. For precompilation to complete successfully, the event source needs to be closed explicitly. See the developer documentation on fixing precompilation hangs for more help.\u001b[33m\n",
      "│  \u001b[39m\u001b[33m\n",
      "│  \u001b[39m[pid 201160] waiting for IO to finish:\u001b[33m\n",
      "│  \u001b[39m Handle type        uv_handle_t->data\u001b[33m\n",
      "│  \u001b[39m timer              0x1b66bd0->0x7fb38868da80\u001b[33m\n",
      "│  \u001b[39mThis means that a package has started a background task or event source that has not finished running. For precompilation to complete successfully, the event source needs to be closed explicitly. See the developer documentation on fixing precompilation hangs for more help.\u001b[33m\n",
      "└  \u001b[39m\n",
      "  No Changes to `~/.miniconda3/envs/202401tfjax/julia_env/Project.toml`\n",
      "  No Changes to `~/.miniconda3/envs/202401tfjax/julia_env/Manifest.toml`\n"
     ]
    }
   ],
   "source": [
    "from juliacall import Main as jl\n",
    "import numpy as np"
   ]
  },
  {
   "cell_type": "code",
   "execution_count": 3,
   "id": "3cebe5207fa7df30",
   "metadata": {
    "ExecuteTime": {
     "end_time": "2024-01-23T20:14:55.958107Z",
     "start_time": "2024-01-23T20:14:55.911802Z"
    },
    "collapsed": false
   },
   "outputs": [
    {
     "data": {
      "text/plain": [
       "'/home/user1/Dropbox/code/vorpy'"
      ]
     },
     "execution_count": 3,
     "metadata": {},
     "output_type": "execute_result"
    }
   ],
   "source": [
    "jl.pwd()"
   ]
  },
  {
   "cell_type": "code",
   "execution_count": 4,
   "id": "4dbc51145ce0d9f9",
   "metadata": {
    "ExecuteTime": {
     "end_time": "2024-01-23T20:14:57.284306Z",
     "start_time": "2024-01-23T20:14:57.240845Z"
    },
    "collapsed": false
   },
   "outputs": [
    {
     "name": "stderr",
     "output_type": "stream",
     "text": [
      "  Activating project at `~/Dropbox/code/vorpy`\n"
     ]
    }
   ],
   "source": [
    "jl.Pkg.activate('.')"
   ]
  },
  {
   "cell_type": "code",
   "execution_count": 5,
   "id": "72e71761c08c0c6b",
   "metadata": {
    "ExecuteTime": {
     "end_time": "2024-01-23T20:14:58.624501Z",
     "start_time": "2024-01-23T20:14:58.621571Z"
    },
    "collapsed": false
   },
   "outputs": [
    {
     "name": "stdout",
     "output_type": "stream",
     "text": [
      "Status `~/Dropbox/code/vorpy/Project.toml`\n",
      "  [6e4b80f9] BenchmarkTools v1.4.0\n",
      "  [052768ef] CUDA v5.2.0\n",
      "⌃ [de52edbc] Integrals v4.1.0\n",
      "⌃ [91a5bcdd] Plots v1.39.0\n",
      "  [90137ffa] StaticArrays v1.9.2\n",
      "Info Packages marked with ⌃ have new versions available and may be upgradable.\n"
     ]
    }
   ],
   "source": [
    "jl.Pkg.status()"
   ]
  },
  {
   "cell_type": "code",
   "execution_count": 6,
   "id": "871e90fdb79df6b2",
   "metadata": {
    "ExecuteTime": {
     "end_time": "2024-01-23T21:01:30.175798Z",
     "start_time": "2024-01-23T21:01:30.152496Z"
    },
    "collapsed": false
   },
   "outputs": [
    {
     "data": {
      "text/plain": [
       "weighted_biot_savart_kernel (generic function with 1 method)"
      ]
     },
     "execution_count": 6,
     "metadata": {},
     "output_type": "execute_result"
    }
   ],
   "source": [
    "# jl.include('julia_src/biot_savart.jl')  # CPU version\n",
    "jl.include('julia_src/biot_savart_cuda.jl')  # GPU version"
   ]
  },
  {
   "cell_type": "code",
   "execution_count": 7,
   "id": "ba41a2e6c41f79e6",
   "metadata": {
    "ExecuteTime": {
     "end_time": "2024-01-23T21:01:30.994009Z",
     "start_time": "2024-01-23T21:01:30.965733Z"
    },
    "collapsed": false
   },
   "outputs": [
    {
     "name": "stdout",
     "output_type": "stream",
     "text": [
      "vp =\n",
      " [[-1000.     0.     0.]\n",
      " [ 1000.     0.     0.]]\n",
      "vc =\n",
      " [0.1 0.1]\n",
      "y =\n",
      " [1.0e-03 2.0e+00 4.0e+00 6.0e+00 8.0e+00 1.0e+01 1.2e+01 1.4e+01 1.6e+01\n",
      " 1.8e+01]\n",
      "fp.shape = (10, 3)\n"
     ]
    }
   ],
   "source": [
    "# Set up vortex and field points\n",
    "vp = np.array([[-1000, 0. , 0], [1000, 0 , 0]])\n",
    "vc = 0.1 * np.ones(2)\n",
    "y = np.arange(0, 20, 2, dtype=np.float64)  # np.linspace(0, 20, 10)\n",
    "y[0] = 1e-3\n",
    "fp = np.zeros((10, 3))\n",
    "fp[:, 1] = y\n",
    "print('vp =\\n', vp)\n",
    "print('vc =\\n', vc)\n",
    "print('y =\\n', y)\n",
    "print('fp.shape =', fp.shape)"
   ]
  },
  {
   "cell_type": "code",
   "execution_count": 104,
   "id": "d769c5098e9e003c",
   "metadata": {
    "ExecuteTime": {
     "end_time": "2024-01-23T21:01:32.735463Z",
     "start_time": "2024-01-23T21:01:32.578589Z"
    },
    "collapsed": false
   },
   "outputs": [
    {
     "ename": "TypeError",
     "evalue": "'float' object is not iterable",
     "output_type": "error",
     "traceback": [
      "\u001b[0;31m---------------------------------------------------------------------------\u001b[0m",
      "\u001b[0;31mTypeError\u001b[0m                                 Traceback (most recent call last)",
      "Cell \u001b[0;32mIn[104], line 3\u001b[0m\n\u001b[1;32m      1\u001b[0m vel \u001b[38;5;241m=\u001b[39m np\u001b[38;5;241m.\u001b[39mzeros(fp\u001b[38;5;241m.\u001b[39mshape[\u001b[38;5;241m0\u001b[39m])\n\u001b[1;32m      2\u001b[0m \u001b[38;5;28;01mfor\u001b[39;00m i \u001b[38;5;129;01min\u001b[39;00m \u001b[38;5;28mrange\u001b[39m(fp\u001b[38;5;241m.\u001b[39mshape[\u001b[38;5;241m0\u001b[39m]):\n\u001b[0;32m----> 3\u001b[0m     vel[i] \u001b[38;5;241m=\u001b[39m \u001b[43mjl\u001b[49m\u001b[38;5;241;43m.\u001b[39;49m\u001b[43mweighted_biot_savart_kernel\u001b[49m\u001b[43m(\u001b[49m\u001b[43mfp\u001b[49m\u001b[43m[\u001b[49m\u001b[43mi\u001b[49m\u001b[43m]\u001b[49m\u001b[43m,\u001b[49m\u001b[43m \u001b[49m\u001b[43mvp\u001b[49m\u001b[38;5;241;43m.\u001b[39;49m\u001b[43mT\u001b[49m\u001b[43m,\u001b[49m\u001b[43m \u001b[49m\u001b[43mvc\u001b[49m\u001b[43m,\u001b[49m\u001b[43m \u001b[49m\u001b[38;5;28;43;01mlambda\u001b[39;49;00m\u001b[43m \u001b[49m\u001b[43mx\u001b[49m\u001b[43m:\u001b[49m\u001b[43m \u001b[49m\u001b[38;5;241;43m1.0\u001b[39;49m\u001b[43m,\u001b[49m\u001b[43m \u001b[49m\u001b[43mjl\u001b[49m\u001b[38;5;241;43m.\u001b[39;49m\u001b[43muniform_trapezoidal_rule\u001b[49m\u001b[43m)\u001b[49m[\u001b[38;5;241m1\u001b[39m]\n",
      "File \u001b[0;32m~/.julia/packages/PythonCall/wXfah/src/jlwrap/any.jl:208\u001b[0m, in \u001b[0;36m__call__\u001b[0;34m(self, *args, **kwargs)\u001b[0m\n\u001b[1;32m    206\u001b[0m     return ValueBase.__dir__(self) + self._jl_callmethod($(pyjl_methodnum(pyjlany_dir)))\n\u001b[1;32m    207\u001b[0m def __call__(self, *args, **kwargs):\n\u001b[0;32m--> 208\u001b[0m     return self._jl_callmethod($(pyjl_methodnum(pyjlany_call)), args, kwargs)\n\u001b[1;32m    209\u001b[0m def __bool__(self):\n\u001b[1;32m    210\u001b[0m     return True\n",
      "\u001b[0;31mTypeError\u001b[0m: 'float' object is not iterable"
     ]
    }
   ],
   "source": [
    "vel = np.zeros(fp.shape[0])\n",
    "for i in range(fp.shape[0]):\n",
    "    vel[i] = jl.weighted_biot_savart_kernel(fp[i], vp.T, vc, lambda x: 1.0, jl.uniform_trapezoidal_rule)[1]\n",
    "\n"
   ]
  },
  {
   "cell_type": "code",
   "execution_count": 92,
   "id": "1a96303e21120322",
   "metadata": {
    "ExecuteTime": {
     "end_time": "2024-01-23T20:44:26.940374Z",
     "start_time": "2024-01-23T20:44:26.851574Z"
    },
    "collapsed": false
   },
   "outputs": [
    {
     "name": "stdout",
     "output_type": "stream",
     "text": [
      "vel =\n",
      " [2000. 2000. 2000. 2000. 2000. 2000. 2000. 2000. 2000. 2000.]\n"
     ]
    }
   ],
   "source": [
    "print('vel =\\n', vel)"
   ]
  },
  {
   "cell_type": "code",
   "execution_count": null,
   "id": "8d01cb0f19258704",
   "metadata": {
    "collapsed": false
   },
   "outputs": [],
   "source": []
  }
 ],
 "metadata": {
  "kernelspec": {
   "display_name": "Python 3",
   "language": "python",
   "name": "python3"
  },
  "language_info": {
   "codemirror_mode": {
    "name": "ipython",
    "version": 3
   },
   "file_extension": ".py",
   "mimetype": "text/x-python",
   "name": "python",
   "nbconvert_exporter": "python",
   "pygments_lexer": "ipython3",
   "version": "3.11.7"
  }
 },
 "nbformat": 4,
 "nbformat_minor": 5
}
